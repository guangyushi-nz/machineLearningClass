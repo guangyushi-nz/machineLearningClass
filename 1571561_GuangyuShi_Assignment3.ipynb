{
 "cells": [
  {
   "cell_type": "code",
   "execution_count": 2,
   "metadata": {},
   "outputs": [],
   "source": [
    "# a sample of how to import the CIFAR-10 dataset, you may use this or any other methods.\n",
    "import tensorflow as tf\n",
    "from tensorflow.keras.datasets import cifar10\n",
    "# Loading the data into train and test sets\n",
    "(X_train, y_train), (X_test, y_test) = cifar10.load_data()"
   ]
  },
  {
   "cell_type": "markdown",
   "metadata": {},
   "source": [
    "1. Data Preprocessing (3 marks): Load the dataset and preprocess it for training.\n",
    "Split the data into training, validation, and test sets."
   ]
  },
  {
   "cell_type": "code",
   "execution_count": 10,
   "metadata": {},
   "outputs": [],
   "source": [
    "from sklearn.model_selection import train_test_split\n",
    "\n",
    "# Normalize the pixel values to a range between 0 and 1\n",
    "X_train = X_train.astype('float32') / 255.0\n",
    "X_test = X_test.astype('float32') / 255.0\n",
    "\n",
    "# First, split the data into training and a combined validation/test set\n",
    "X_train, X_val_test, y_train, y_val_test = train_test_split(X_train, y_train, test_size=0.3, random_state=42)\n",
    "\n",
    "# Then, split the combined validation/test set into separate validation and test sets\n",
    "X_validation, X_test, y_validation, y_test = train_test_split(X_val_test, y_val_test, test_size=0.5, random_state=42)\n"
   ]
  },
  {
   "cell_type": "markdown",
   "metadata": {},
   "source": [
    "2. Model Architecture (3 marks): Build a neural network with one input layer, two\n",
    "hidden layers with 128 neurons each, and one output layer."
   ]
  },
  {
   "cell_type": "code",
   "execution_count": 3,
   "metadata": {},
   "outputs": [
    {
     "name": "stdout",
     "output_type": "stream",
     "text": [
      "Model: \"sequential\"\n",
      "_________________________________________________________________\n",
      " Layer (type)                Output Shape              Param #   \n",
      "=================================================================\n",
      " flatten (Flatten)           (None, 3072)              0         \n",
      "                                                                 \n",
      " dense (Dense)               (None, 128)               393344    \n",
      "                                                                 \n",
      " dense_1 (Dense)             (None, 128)               16512     \n",
      "                                                                 \n",
      " dense_2 (Dense)             (None, 10)                1290      \n",
      "                                                                 \n",
      "=================================================================\n",
      "Total params: 411146 (1.57 MB)\n",
      "Trainable params: 411146 (1.57 MB)\n",
      "Non-trainable params: 0 (0.00 Byte)\n",
      "_________________________________________________________________\n"
     ]
    }
   ],
   "source": [
    "from tensorflow import keras\n",
    "\n",
    "# Define the model\n",
    "model = keras.Sequential([\n",
    "    # Input layer: Flatten the input data (assuming it's a 2D image)\n",
    "    keras.layers.Flatten(input_shape=(32, 32, 3)),  # Adjust input shape as needed\n",
    "\n",
    "    # First hidden layer with 128 neurons and ReLU activation\n",
    "    keras.layers.Dense(128, activation='relu'),\n",
    "\n",
    "    # Second hidden layer with 128 neurons and ReLU activation\n",
    "    keras.layers.Dense(128, activation='relu'),\n",
    "\n",
    "    # Output layer with the appropriate number of units (e.g., 10 for CIFAR-10) and softmax activation\n",
    "    keras.layers.Dense(10, activation='softmax')\n",
    "])\n",
    "\n",
    "# Compile the model\n",
    "model.compile(optimizer='adam', loss='sparse_categorical_crossentropy', metrics=['accuracy'])\n",
    "\n",
    "# Print a summary of the model's architecture\n",
    "model.summary()"
   ]
  },
  {
   "cell_type": "markdown",
   "metadata": {},
   "source": [
    "3. Training (2 marks): Train the model (with 30 epochs using training and validation sets)."
   ]
  },
  {
   "cell_type": "code",
   "execution_count": 4,
   "metadata": {},
   "outputs": [
    {
     "name": "stdout",
     "output_type": "stream",
     "text": [
      "Epoch 1/30\n",
      "1094/1094 [==============================] - 31s 18ms/step - loss: 1.9018 - accuracy: 0.3123 - val_loss: 1.8299 - val_accuracy: 0.3353\n",
      "Epoch 2/30\n",
      "1094/1094 [==============================] - 17s 16ms/step - loss: 1.7322 - accuracy: 0.3772 - val_loss: 1.6754 - val_accuracy: 0.4033\n",
      "Epoch 3/30\n",
      "1094/1094 [==============================] - 21s 19ms/step - loss: 1.6550 - accuracy: 0.4075 - val_loss: 1.6635 - val_accuracy: 0.4011\n",
      "Epoch 4/30\n",
      "1094/1094 [==============================] - 20s 18ms/step - loss: 1.6108 - accuracy: 0.4234 - val_loss: 1.6133 - val_accuracy: 0.4109\n",
      "Epoch 5/30\n",
      "1094/1094 [==============================] - 19s 17ms/step - loss: 1.5783 - accuracy: 0.4351 - val_loss: 1.6245 - val_accuracy: 0.4168\n",
      "Epoch 6/30\n",
      "1094/1094 [==============================] - 24s 22ms/step - loss: 1.5516 - accuracy: 0.4455 - val_loss: 1.5742 - val_accuracy: 0.4333\n",
      "Epoch 7/30\n",
      "1094/1094 [==============================] - 20s 19ms/step - loss: 1.5259 - accuracy: 0.4551 - val_loss: 1.5504 - val_accuracy: 0.4411\n",
      "Epoch 8/30\n",
      "1094/1094 [==============================] - 21s 20ms/step - loss: 1.5099 - accuracy: 0.4595 - val_loss: 1.5587 - val_accuracy: 0.4412\n",
      "Epoch 9/30\n",
      "1094/1094 [==============================] - 28s 25ms/step - loss: 1.4924 - accuracy: 0.4699 - val_loss: 1.5869 - val_accuracy: 0.4399\n",
      "Epoch 10/30\n",
      "1094/1094 [==============================] - 21s 20ms/step - loss: 1.4731 - accuracy: 0.4745 - val_loss: 1.5267 - val_accuracy: 0.4513\n",
      "Epoch 11/30\n",
      "1094/1094 [==============================] - 21s 19ms/step - loss: 1.4607 - accuracy: 0.4787 - val_loss: 1.5503 - val_accuracy: 0.4403\n",
      "Epoch 12/30\n",
      "1094/1094 [==============================] - 23s 21ms/step - loss: 1.4491 - accuracy: 0.4815 - val_loss: 1.5205 - val_accuracy: 0.4556\n",
      "Epoch 13/30\n",
      "1094/1094 [==============================] - 22s 20ms/step - loss: 1.4413 - accuracy: 0.4876 - val_loss: 1.5242 - val_accuracy: 0.4561\n",
      "Epoch 14/30\n",
      "1094/1094 [==============================] - 23s 21ms/step - loss: 1.4287 - accuracy: 0.4893 - val_loss: 1.5436 - val_accuracy: 0.4483\n",
      "Epoch 15/30\n",
      "1094/1094 [==============================] - 21s 19ms/step - loss: 1.4211 - accuracy: 0.4907 - val_loss: 1.5214 - val_accuracy: 0.4581\n",
      "Epoch 16/30\n",
      "1094/1094 [==============================] - 19s 17ms/step - loss: 1.4130 - accuracy: 0.4973 - val_loss: 1.5228 - val_accuracy: 0.4519\n",
      "Epoch 17/30\n",
      "1094/1094 [==============================] - 21s 19ms/step - loss: 1.4060 - accuracy: 0.4956 - val_loss: 1.5087 - val_accuracy: 0.4621\n",
      "Epoch 18/30\n",
      "1094/1094 [==============================] - 19s 17ms/step - loss: 1.3959 - accuracy: 0.5027 - val_loss: 1.5383 - val_accuracy: 0.4509\n",
      "Epoch 19/30\n",
      "1094/1094 [==============================] - 19s 17ms/step - loss: 1.3886 - accuracy: 0.5048 - val_loss: 1.5657 - val_accuracy: 0.4439\n",
      "Epoch 20/30\n",
      "1094/1094 [==============================] - 21s 19ms/step - loss: 1.3852 - accuracy: 0.5039 - val_loss: 1.5381 - val_accuracy: 0.4528\n",
      "Epoch 21/30\n",
      "1094/1094 [==============================] - 20s 18ms/step - loss: 1.3799 - accuracy: 0.5054 - val_loss: 1.5529 - val_accuracy: 0.4552\n",
      "Epoch 22/30\n",
      "1094/1094 [==============================] - 19s 17ms/step - loss: 1.3746 - accuracy: 0.5093 - val_loss: 1.5367 - val_accuracy: 0.4601\n",
      "Epoch 23/30\n",
      "1094/1094 [==============================] - 19s 17ms/step - loss: 1.3633 - accuracy: 0.5123 - val_loss: 1.5667 - val_accuracy: 0.4503\n",
      "Epoch 24/30\n",
      "1094/1094 [==============================] - 19s 17ms/step - loss: 1.3585 - accuracy: 0.5143 - val_loss: 1.5545 - val_accuracy: 0.4501\n",
      "Epoch 25/30\n",
      "1094/1094 [==============================] - 19s 17ms/step - loss: 1.3549 - accuracy: 0.5156 - val_loss: 1.5529 - val_accuracy: 0.4469\n",
      "Epoch 26/30\n",
      "1094/1094 [==============================] - 19s 17ms/step - loss: 1.3512 - accuracy: 0.5181 - val_loss: 1.5170 - val_accuracy: 0.4628\n",
      "Epoch 27/30\n",
      "1094/1094 [==============================] - 19s 17ms/step - loss: 1.3441 - accuracy: 0.5172 - val_loss: 1.5359 - val_accuracy: 0.4523\n",
      "Epoch 28/30\n",
      "1094/1094 [==============================] - 19s 17ms/step - loss: 1.3387 - accuracy: 0.5205 - val_loss: 1.5118 - val_accuracy: 0.4737\n",
      "Epoch 29/30\n",
      "1094/1094 [==============================] - 19s 17ms/step - loss: 1.3308 - accuracy: 0.5274 - val_loss: 1.5731 - val_accuracy: 0.4543\n",
      "Epoch 30/30\n",
      "1094/1094 [==============================] - 19s 17ms/step - loss: 1.3316 - accuracy: 0.5231 - val_loss: 1.5496 - val_accuracy: 0.4587\n"
     ]
    }
   ],
   "source": [
    "# Train the model with 30 epochs using training and validation sets\n",
    "history = model.fit(X_train, y_train, epochs=30, validation_data=(X_validation, y_validation))"
   ]
  },
  {
   "cell_type": "markdown",
   "metadata": {},
   "source": [
    "4. Evaluation (3 marks): Assess the model's performance using accuracy, precision, recall, and F1-score. as the metrics."
   ]
  },
  {
   "cell_type": "code",
   "execution_count": 5,
   "metadata": {},
   "outputs": [
    {
     "name": "stdout",
     "output_type": "stream",
     "text": [
      "235/235 [==============================] - 3s 4ms/step\n",
      "Accuracy: 0.46653333333333336\n",
      "Precision: 0.48033160894717614\n",
      "Recall: 0.46653333333333336\n",
      "F1-Score: 0.4589920434784028\n"
     ]
    }
   ],
   "source": [
    "import numpy as np\n",
    "from sklearn.metrics import accuracy_score, precision_score, recall_score, f1_score\n",
    "\n",
    "# Assuming you have already trained your model and have X_test and y_test\n",
    "\n",
    "# Make predictions on the test set\n",
    "y_pred = model.predict(X_test)\n",
    "\n",
    "# Convert predicted probabilities to class labels\n",
    "y_pred_classes = np.argmax(y_pred, axis=1)\n",
    "\n",
    "# Calculate accuracy\n",
    "accuracy = accuracy_score(y_test, y_pred_classes)\n",
    "\n",
    "# Calculate precision\n",
    "precision = precision_score(y_test, y_pred_classes, average='weighted')\n",
    "\n",
    "# Calculate recall\n",
    "recall = recall_score(y_test, y_pred_classes, average='weighted')\n",
    "\n",
    "# Calculate F1-score\n",
    "f1 = f1_score(y_test, y_pred_classes, average='weighted')\n",
    "\n",
    "# Print the evaluation metrics\n",
    "print(f\"Accuracy: {accuracy}\")\n",
    "print(f\"Precision: {precision}\")\n",
    "print(f\"Recall: {recall}\")\n",
    "print(f\"F1-Score: {f1}\")\n"
   ]
  },
  {
   "cell_type": "markdown",
   "metadata": {},
   "source": [
    "5. Accuracy-Loss Curve (2 marks): Plot the curves for both accuracy and loss for training and validation sets during the training process. Interpret its meaning."
   ]
  },
  {
   "cell_type": "code",
   "execution_count": 6,
   "metadata": {},
   "outputs": [
    {
     "data": {
      "image/png": "[encoded data removed]",
      "text/plain": [
       "<Figure size 1200x500 with 2 Axes>"
      ]
     },
     "metadata": {},
     "output_type": "display_data"
    }
   ],
   "source": [
    "import matplotlib.pyplot as plt\n",
    "\n",
    "# Assuming you have trained your model and have the 'history' object\n",
    "\n",
    "# Extract training and validation loss and accuracy\n",
    "training_loss = history.history['loss']\n",
    "validation_loss = history.history['val_loss']\n",
    "training_accuracy = history.history['accuracy']\n",
    "validation_accuracy = history.history['val_accuracy']\n",
    "\n",
    "# Plot the loss curves\n",
    "plt.figure(figsize=(12, 5))\n",
    "plt.subplot(1, 2, 1)\n",
    "plt.plot(training_loss, label='Training Loss', color='blue')\n",
    "plt.plot(validation_loss, label='Validation Loss', color='red')\n",
    "plt.xlabel('Epochs')\n",
    "plt.ylabel('Loss')\n",
    "plt.title('Training and Validation Loss')\n",
    "plt.legend()\n",
    "\n",
    "# Plot the accuracy curves\n",
    "plt.subplot(1, 2, 2)\n",
    "plt.plot(training_accuracy, label='Training Accuracy', color='blue')\n",
    "plt.plot(validation_accuracy, label='Validation Accuracy', color='red')\n",
    "plt.xlabel('Epochs')\n",
    "plt.ylabel('Accuracy')\n",
    "plt.title('Training and Validation Accuracy')\n",
    "plt.legend()\n",
    "\n",
    "plt.tight_layout()\n",
    "plt.show()\n"
   ]
  },
  {
   "cell_type": "markdown",
   "metadata": {},
   "source": [
    "6. What is the role of the activation function in a neural network? Give examples of two activation functions and explain their advantages and disadvantages. (2 marks)"
   ]
  },
  {
   "cell_type": "markdown",
   "metadata": {},
   "source": [
    "The activation function in a neural network plays a crucial role in introducing non-linearity to the model. It allows the network to model complex, non-linear relationships in the data, which is essential for its ability to learn and represent various functions. \n",
    "\n",
    "let's discuss two common activation functions and their advantages and disadvantages:\n",
    "\n",
    "1. Rectified Linear Unit (ReLU):\n",
    "\n",
    "    Advantages:\n",
    "        Simple and computationally efficient: ReLU is computationally efficient because it involves only a simple thresholding operation.\n",
    "        Mitigates vanishing gradient problem: ReLU activations do not saturate (become very small) for positive input values, which helps mitigate the vanishing gradient problem during training.\n",
    "    Disadvantages:\n",
    "        Can suffer from dead neurons: Neurons with ReLU activations can sometimes become inactive (output zero) during training, which can slow down learning. This is known as the \"dying ReLU\" problem.\n",
    "        Not suited for all types of data: ReLU may not perform well on data with a large amount of negative values because it sets all negative values to zero.\n",
    "\n",
    "2. Sigmoid Activation:\n",
    "\n",
    "    Advantages:\n",
    "        Output between 0 and 1: The sigmoid function maps input values to the range (0, 1), making it suitable for binary classification problems where you want to predict probabilities.\n",
    "        Smooth and differentiable: Sigmoid is a smooth and differentiable activation function, making it compatible with gradient-based optimization algorithms like gradient descent.\n",
    "    Disadvantages:\n",
    "        Susceptible to vanishing gradients: Sigmoid saturates (produces values close to 0 or 1) for extreme input values, leading to vanishing gradients during training, especially in deep networks.\n",
    "        Not zero-centered: The sigmoid function is not zero-centered, which can slow down learning in networks."
   ]
  },
  {
   "cell_type": "markdown",
   "metadata": {},
   "source": [
    "7. Briefly describe the backpropagation algorithm. What is its purpose?"
   ]
  },
  {
   "cell_type": "markdown",
   "metadata": {},
   "source": [
    "Backpropagation, short for \"backward propagation of errors,\" is a fundamental algorithm in the training of artificial neural networks. Its primary purpose is to update the weights and biases of a neural network to minimize a specified loss function. Backpropagation is a critical component of gradient-based optimization, allowing neural networks to learn and adapt their parameters through supervised learning."
   ]
  },
  {
   "cell_type": "markdown",
   "metadata": {},
   "source": [
    "B\n",
    "\n",
    "8. Data Preprocessing (3 marks): Load the dataset and preprocess it for training. Split the data into training, validation, and test sets."
   ]
  },
  {
   "cell_type": "code",
   "execution_count": 7,
   "metadata": {},
   "outputs": [],
   "source": [
    "# Load the CIFAR-10 dataset\n",
    "(X_train, y_train), (X_test, y_test) = cifar10.load_data()\n",
    "\n",
    "# Normalize the pixel values to a range between 0 and 1\n",
    "X_train = X_train.astype('float32') / 255.0\n",
    "X_test = X_test.astype('float32') / 255.0\n",
    "\n",
    "# Split the data into training, validation, and test sets\n",
    "# First, split the data into training and a combined validation/test set\n",
    "X_train, X_val_test, y_train, y_val_test = train_test_split(X_train, y_train, test_size=0.3, random_state=42)\n",
    "\n",
    "# Then, split the combined validation/test set into separate validation and test sets\n",
    "X_validation, X_test, y_validation, y_test = train_test_split(X_val_test, y_val_test, test_size=0.5, random_state=42)\n"
   ]
  },
  {
   "cell_type": "markdown",
   "metadata": {},
   "source": [
    "9. Model Architecture (3 marks): Build a CNN with convolutional layers, pooling layers, and fully connected layers."
   ]
  },
  {
   "cell_type": "code",
   "execution_count": 8,
   "metadata": {},
   "outputs": [
    {
     "name": "stdout",
     "output_type": "stream",
     "text": [
      "Model: \"sequential_1\"\n",
      "_________________________________________________________________\n",
      " Layer (type)                Output Shape              Param #   \n",
      "=================================================================\n",
      " conv2d (Conv2D)             (None, 30, 30, 32)        896       \n",
      "                                                                 \n",
      " max_pooling2d (MaxPooling2  (None, 15, 15, 32)        0         \n",
      " D)                                                              \n",
      "                                                                 \n",
      " conv2d_1 (Conv2D)           (None, 13, 13, 64)        18496     \n",
      "                                                                 \n",
      " max_pooling2d_1 (MaxPoolin  (None, 6, 6, 64)          0         \n",
      " g2D)                                                            \n",
      "                                                                 \n",
      " conv2d_2 (Conv2D)           (None, 4, 4, 128)         73856     \n",
      "                                                                 \n",
      " max_pooling2d_2 (MaxPoolin  (None, 2, 2, 128)         0         \n",
      " g2D)                                                            \n",
      "                                                                 \n",
      " flatten_1 (Flatten)         (None, 512)               0         \n",
      "                                                                 \n",
      " dense_3 (Dense)             (None, 128)               65664     \n",
      "                                                                 \n",
      " dense_4 (Dense)             (None, 10)                1290      \n",
      "                                                                 \n",
      "=================================================================\n",
      "Total params: 160202 (625.79 KB)\n",
      "Trainable params: 160202 (625.79 KB)\n",
      "Non-trainable params: 0 (0.00 Byte)\n",
      "_________________________________________________________________\n"
     ]
    }
   ],
   "source": [
    "# Define the CNN model\n",
    "model = keras.Sequential([\n",
    "    # Convolutional layer 1\n",
    "    keras.layers.Conv2D(32, (3, 3), activation='relu', input_shape=(32, 32, 3)),\n",
    "    keras.layers.MaxPooling2D((2, 2)),\n",
    "    \n",
    "    # Convolutional layer 2\n",
    "    keras.layers.Conv2D(64, (3, 3), activation='relu'),\n",
    "    keras.layers.MaxPooling2D((2, 2)),\n",
    "    \n",
    "    # Convolutional layer 3 (optional, add more if needed)\n",
    "    keras.layers.Conv2D(128, (3, 3), activation='relu'),\n",
    "    keras.layers.MaxPooling2D((2, 2)),\n",
    "    \n",
    "    # Flatten the output of the convolutional layers\n",
    "    keras.layers.Flatten(),\n",
    "    \n",
    "    # Fully connected layers\n",
    "    keras.layers.Dense(128, activation='relu'),\n",
    "    keras.layers.Dense(10, activation='softmax')  # 10 output classes for CIFAR-10\n",
    "])\n",
    "\n",
    "# Compile the model\n",
    "model.compile(optimizer='adam', loss='sparse_categorical_crossentropy', metrics=['accuracy'])\n",
    "\n",
    "# Print a summary of the model's architecture\n",
    "model.summary()"
   ]
  },
  {
   "cell_type": "markdown",
   "metadata": {},
   "source": [
    "10. Training (2 marks): Train the model. (with 15 epochs using training and validation sets)"
   ]
  },
  {
   "cell_type": "code",
   "execution_count": 9,
   "metadata": {},
   "outputs": [
    {
     "name": "stdout",
     "output_type": "stream",
     "text": [
      "Epoch 1/15\n",
      "1094/1094 [==============================] - 133s 118ms/step - loss: 1.5806 - accuracy: 0.4221 - val_loss: 1.3292 - val_accuracy: 0.5153\n",
      "Epoch 2/15\n",
      "1094/1094 [==============================] - 106s 97ms/step - loss: 1.2144 - accuracy: 0.5680 - val_loss: 1.1511 - val_accuracy: 0.5939\n",
      "Epoch 3/15\n",
      "1094/1094 [==============================] - 129s 118ms/step - loss: 1.0394 - accuracy: 0.6353 - val_loss: 1.0139 - val_accuracy: 0.6393\n",
      "Epoch 4/15\n",
      "1094/1094 [==============================] - 125s 114ms/step - loss: 0.9257 - accuracy: 0.6773 - val_loss: 0.9532 - val_accuracy: 0.6680\n",
      "Epoch 5/15\n",
      "1094/1094 [==============================] - 117s 107ms/step - loss: 0.8199 - accuracy: 0.7143 - val_loss: 0.9073 - val_accuracy: 0.6832\n",
      "Epoch 6/15\n",
      "1094/1094 [==============================] - 119s 109ms/step - loss: 0.7495 - accuracy: 0.7370 - val_loss: 0.9521 - val_accuracy: 0.6707\n",
      "Epoch 7/15\n",
      "1094/1094 [==============================] - 117s 107ms/step - loss: 0.6765 - accuracy: 0.7628 - val_loss: 0.9156 - val_accuracy: 0.6885\n",
      "Epoch 8/15\n",
      "1094/1094 [==============================] - 115s 105ms/step - loss: 0.6097 - accuracy: 0.7842 - val_loss: 0.9176 - val_accuracy: 0.6941\n",
      "Epoch 9/15\n",
      "1094/1094 [==============================] - 116s 106ms/step - loss: 0.5477 - accuracy: 0.8063 - val_loss: 1.0026 - val_accuracy: 0.6788\n",
      "Epoch 10/15\n",
      "1094/1094 [==============================] - 116s 106ms/step - loss: 0.4959 - accuracy: 0.8251 - val_loss: 0.9684 - val_accuracy: 0.6923\n",
      "Epoch 11/15\n",
      "1094/1094 [==============================] - 115s 105ms/step - loss: 0.4409 - accuracy: 0.8425 - val_loss: 1.0133 - val_accuracy: 0.6927\n",
      "Epoch 12/15\n",
      "1094/1094 [==============================] - 118s 107ms/step - loss: 0.3990 - accuracy: 0.8601 - val_loss: 1.0338 - val_accuracy: 0.7008\n",
      "Epoch 13/15\n",
      "1094/1094 [==============================] - 116s 106ms/step - loss: 0.3500 - accuracy: 0.8755 - val_loss: 1.1326 - val_accuracy: 0.6952\n",
      "Epoch 14/15\n",
      "1094/1094 [==============================] - 118s 108ms/step - loss: 0.3201 - accuracy: 0.8884 - val_loss: 1.1992 - val_accuracy: 0.6893\n",
      "Epoch 15/15\n",
      "1094/1094 [==============================] - 121s 111ms/step - loss: 0.2844 - accuracy: 0.8986 - val_loss: 1.2218 - val_accuracy: 0.6900\n",
      "235/235 [==============================] - 8s 36ms/step - loss: 1.1985 - accuracy: 0.6911\n",
      "Test Accuracy: 0.6910666823387146\n"
     ]
    }
   ],
   "source": [
    "# Assuming you have defined and compiled your model\n",
    "# model.compile(optimizer='adam', loss='sparse_categorical_crossentropy', metrics=['accuracy'])\n",
    "\n",
    "# Define the number of epochs\n",
    "epochs = 15\n",
    "\n",
    "# Train the model with training and validation sets\n",
    "history = model.fit(X_train, y_train, epochs=epochs, validation_data=(X_validation, y_validation))\n",
    "\n",
    "# After training, you can evaluate the model on the test set\n",
    "test_loss, test_accuracy = model.evaluate(X_test, y_test)\n",
    "\n",
    "# Print the test accuracy\n",
    "print(f\"Test Accuracy: {test_accuracy}\")\n"
   ]
  },
  {
   "cell_type": "markdown",
   "metadata": {},
   "source": [
    "11. Evaluation (1 mark): Assess the model's performance using accuracy as the metric."
   ]
  },
  {
   "cell_type": "code",
   "execution_count": 10,
   "metadata": {},
   "outputs": [
    {
     "name": "stdout",
     "output_type": "stream",
     "text": [
      "235/235 [==============================] - 7s 29ms/step - loss: 1.1985 - accuracy: 0.6911\n",
      "Test Accuracy: 0.6910666823387146\n"
     ]
    }
   ],
   "source": [
    "# Assuming you have already trained your model and have X_test and y_test\n",
    "\n",
    "# Evaluate the model on the test data\n",
    "test_loss, test_accuracy = model.evaluate(X_test, y_test)\n",
    "\n",
    "# Print the test accuracy\n",
    "print(f\"Test Accuracy: {test_accuracy}\")\n"
   ]
  },
  {
   "cell_type": "markdown",
   "metadata": {},
   "source": [
    "12. Confusion Matrix (2 marks)Plot a confusion matrix for the CNN and interpret the results."
   ]
  },
  {
   "cell_type": "code",
   "execution_count": 12,
   "metadata": {},
   "outputs": [
    {
     "name": "stdout",
     "output_type": "stream",
     "text": [
      "235/235 [==============================] - 9s 37ms/step\n"
     ]
    },
    {
     "data": {
      "image/png": "[encoded data removed]",
      "text/plain": [
       "<Figure size 1000x800 with 2 Axes>"
      ]
     },
     "metadata": {},
     "output_type": "display_data"
    }
   ],
   "source": [
    "import matplotlib.pyplot as plt\n",
    "import seaborn as sns\n",
    "from sklearn.metrics import confusion_matrix\n",
    "from sklearn.utils.multiclass import unique_labels\n",
    "\n",
    "# Make predictions on the test set\n",
    "y_pred = model.predict(X_test)\n",
    "y_pred_classes = np.argmax(y_pred, axis=1)\n",
    "\n",
    "# Calculate the confusion matrix\n",
    "cm = confusion_matrix(y_test, y_pred_classes)\n",
    "classes = unique_labels(y_test, y_pred_classes)\n",
    "\n",
    "# Create a heatmap for the confusion matrix\n",
    "plt.figure(figsize=(10, 8))\n",
    "sns.heatmap(cm, annot=True, fmt=\"d\", cmap=\"Blues\", xticklabels=classes, yticklabels=classes)\n",
    "plt.xlabel('Predicted')\n",
    "plt.ylabel('True')\n",
    "plt.title('Confusion Matrix')\n",
    "plt.show()"
   ]
  },
  {
   "cell_type": "markdown",
   "metadata": {},
   "source": [
    "The diagonal elements (from the top-left to bottom-right) represent the number of correct predictions for each class.\n",
    "it's from 500 to 600. \n",
    "\n",
    "Off-diagonal elements represent misclassifications. The row represents the true class, and the column represents the predicted class. \n",
    "\n",
    "\n",
    "\n"
   ]
  },
  {
   "cell_type": "markdown",
   "metadata": {},
   "source": [
    "13. Accuracy-Loss Curve (2 marks): Plot the curves for both accuracy and loss for training and validation sets during the training process. Interpret its meaning."
   ]
  },
  {
   "cell_type": "code",
   "execution_count": 13,
   "metadata": {},
   "outputs": [
    {
     "data": {
      "image/png": "[encoded data removed]",
      "text/plain": [
       "<Figure size 1200x500 with 2 Axes>"
      ]
     },
     "metadata": {},
     "output_type": "display_data"
    }
   ],
   "source": [
    "# Extract training and validation loss and accuracy\n",
    "training_loss = history.history['loss']\n",
    "validation_loss = history.history['val_loss']\n",
    "training_accuracy = history.history['accuracy']\n",
    "validation_accuracy = history.history['val_accuracy']\n",
    "\n",
    "# Plot the loss curves\n",
    "plt.figure(figsize=(12, 5))\n",
    "plt.subplot(1, 2, 1)\n",
    "plt.plot(training_loss, label='Training Loss', color='blue')\n",
    "plt.plot(validation_loss, label='Validation Loss', color='red')\n",
    "plt.xlabel('Epochs')\n",
    "plt.ylabel('Loss')\n",
    "plt.title('Training and Validation Loss')\n",
    "plt.legend()\n",
    "\n",
    "# Plot the accuracy curves\n",
    "plt.subplot(1, 2, 2)\n",
    "plt.plot(training_accuracy, label='Training Accuracy', color='blue')\n",
    "plt.plot(validation_accuracy, label='Validation Accuracy', color='red')\n",
    "plt.xlabel('Epochs')\n",
    "plt.ylabel('Accuracy')\n",
    "plt.title('Training and Validation Accuracy')\n",
    "plt.legend()\n",
    "\n",
    "plt.tight_layout()\n",
    "plt.show()"
   ]
  },
  {
   "cell_type": "markdown",
   "metadata": {},
   "source": [
    "The training loss decreases, but the validation plateaus, it may indicate overfitting. \n",
    "The training accuracy is increasing while the validation accuracy is plateauing, it may also indicate overfitting. "
   ]
  },
  {
   "cell_type": "markdown",
   "metadata": {},
   "source": [
    "14. Learning Rate (2 marks): Experiment with at least three different learning rates and compare their effects on training and performance."
   ]
  },
  {
   "cell_type": "code",
   "execution_count": 14,
   "metadata": {},
   "outputs": [
    {
     "name": "stdout",
     "output_type": "stream",
     "text": [
      "Epoch 1/15\n",
      "1094/1094 [==============================] - 195s 173ms/step - loss: 0.2668 - accuracy: 0.9053 - val_loss: 1.2833 - val_accuracy: 0.6867\n",
      "Epoch 2/15\n",
      "1094/1094 [==============================] - 119s 108ms/step - loss: 0.2327 - accuracy: 0.9190 - val_loss: 1.3991 - val_accuracy: 0.6913\n",
      "Epoch 3/15\n",
      "1094/1094 [==============================] - 126s 115ms/step - loss: 0.2072 - accuracy: 0.9245 - val_loss: 1.4290 - val_accuracy: 0.6891\n",
      "Epoch 4/15\n",
      "1094/1094 [==============================] - 122s 112ms/step - loss: 0.1954 - accuracy: 0.9313 - val_loss: 1.5830 - val_accuracy: 0.6819\n",
      "Epoch 5/15\n",
      "1094/1094 [==============================] - 121s 110ms/step - loss: 0.1853 - accuracy: 0.9327 - val_loss: 1.6442 - val_accuracy: 0.6817\n",
      "Epoch 6/15\n",
      "1094/1094 [==============================] - 163s 149ms/step - loss: 0.1601 - accuracy: 0.9430 - val_loss: 1.6594 - val_accuracy: 0.6848\n",
      "Epoch 7/15\n",
      "1094/1094 [==============================] - 151s 138ms/step - loss: 0.1558 - accuracy: 0.9442 - val_loss: 1.7536 - val_accuracy: 0.6723\n",
      "Epoch 8/15\n",
      "1094/1094 [==============================] - 137s 126ms/step - loss: 0.1491 - accuracy: 0.9470 - val_loss: 1.9375 - val_accuracy: 0.6779\n",
      "Epoch 9/15\n",
      "1094/1094 [==============================] - 125s 115ms/step - loss: 0.1418 - accuracy: 0.9489 - val_loss: 1.9509 - val_accuracy: 0.6748\n",
      "Epoch 10/15\n",
      "1094/1094 [==============================] - 123s 112ms/step - loss: 0.1393 - accuracy: 0.9515 - val_loss: 1.9791 - val_accuracy: 0.6824\n",
      "Epoch 11/15\n",
      "1094/1094 [==============================] - 126s 115ms/step - loss: 0.1263 - accuracy: 0.9553 - val_loss: 2.0357 - val_accuracy: 0.6792\n",
      "Epoch 12/15\n",
      "1094/1094 [==============================] - 122s 112ms/step - loss: 0.1322 - accuracy: 0.9535 - val_loss: 2.1163 - val_accuracy: 0.6760\n",
      "Epoch 13/15\n",
      "1094/1094 [==============================] - 139s 127ms/step - loss: 0.1223 - accuracy: 0.9570 - val_loss: 2.1862 - val_accuracy: 0.6777\n",
      "Epoch 14/15\n",
      "1094/1094 [==============================] - 143s 131ms/step - loss: 0.1133 - accuracy: 0.9611 - val_loss: 2.2751 - val_accuracy: 0.6617\n",
      "Epoch 15/15\n",
      "1094/1094 [==============================] - 158s 145ms/step - loss: 0.1203 - accuracy: 0.9572 - val_loss: 2.3343 - val_accuracy: 0.6791\n",
      "Epoch 1/15\n",
      "1094/1094 [==============================] - 243s 208ms/step - loss: 1.5476 - accuracy: 0.4654 - val_loss: 1.4668 - val_accuracy: 0.4985\n",
      "Epoch 2/15\n",
      "1094/1094 [==============================] - 131s 120ms/step - loss: 1.3804 - accuracy: 0.5234 - val_loss: 1.3537 - val_accuracy: 0.5264\n",
      "Epoch 3/15\n",
      "1094/1094 [==============================] - 120s 110ms/step - loss: 1.3364 - accuracy: 0.5422 - val_loss: 1.2983 - val_accuracy: 0.5536\n",
      "Epoch 4/15\n",
      "1094/1094 [==============================] - 125s 115ms/step - loss: 1.3417 - accuracy: 0.5429 - val_loss: 1.5487 - val_accuracy: 0.5252\n",
      "Epoch 5/15\n",
      "1094/1094 [==============================] - 121s 111ms/step - loss: 1.3036 - accuracy: 0.5603 - val_loss: 1.3295 - val_accuracy: 0.5612\n",
      "Epoch 6/15\n",
      "1094/1094 [==============================] - 119s 109ms/step - loss: 1.2971 - accuracy: 0.5628 - val_loss: 1.3174 - val_accuracy: 0.5657\n",
      "Epoch 7/15\n",
      "1094/1094 [==============================] - 122s 112ms/step - loss: 1.2567 - accuracy: 0.5777 - val_loss: 1.3879 - val_accuracy: 0.5487\n",
      "Epoch 8/15\n",
      "1094/1094 [==============================] - 130s 119ms/step - loss: 1.2754 - accuracy: 0.5784 - val_loss: 1.4115 - val_accuracy: 0.5212\n",
      "Epoch 9/15\n",
      "1094/1094 [==============================] - 131s 120ms/step - loss: 1.2449 - accuracy: 0.5880 - val_loss: 1.3654 - val_accuracy: 0.5568\n",
      "Epoch 10/15\n",
      "1094/1094 [==============================] - 134s 122ms/step - loss: 1.2146 - accuracy: 0.6021 - val_loss: 1.2804 - val_accuracy: 0.5853\n",
      "Epoch 11/15\n",
      "1094/1094 [==============================] - 129s 118ms/step - loss: 1.2216 - accuracy: 0.5996 - val_loss: 1.3475 - val_accuracy: 0.5687\n",
      "Epoch 12/15\n",
      "1094/1094 [==============================] - 129s 118ms/step - loss: 1.2070 - accuracy: 0.6072 - val_loss: 1.4179 - val_accuracy: 0.5585\n",
      "Epoch 13/15\n",
      "1094/1094 [==============================] - 130s 119ms/step - loss: 1.2321 - accuracy: 0.6023 - val_loss: 1.4480 - val_accuracy: 0.5425\n",
      "Epoch 14/15\n",
      "1094/1094 [==============================] - 129s 118ms/step - loss: 1.2266 - accuracy: 0.6012 - val_loss: 1.4240 - val_accuracy: 0.5629\n",
      "Epoch 15/15\n",
      "1094/1094 [==============================] - 129s 118ms/step - loss: 1.2004 - accuracy: 0.6124 - val_loss: 1.5265 - val_accuracy: 0.5567\n",
      "Epoch 1/15\n",
      "1094/1094 [==============================] - 198s 168ms/step - loss: 2.3316 - accuracy: 0.1011 - val_loss: 2.3234 - val_accuracy: 0.1033\n",
      "Epoch 2/15\n",
      "1094/1094 [==============================] - 138s 126ms/step - loss: 2.3146 - accuracy: 0.0989 - val_loss: 2.3082 - val_accuracy: 0.0955\n",
      "Epoch 3/15\n",
      "1094/1094 [==============================] - 143s 131ms/step - loss: 2.3152 - accuracy: 0.1015 - val_loss: 2.3176 - val_accuracy: 0.0957\n",
      "Epoch 4/15\n",
      "1094/1094 [==============================] - 131s 120ms/step - loss: 2.3161 - accuracy: 0.0995 - val_loss: 2.3213 - val_accuracy: 0.0961\n",
      "Epoch 5/15\n",
      "1094/1094 [==============================] - 125s 114ms/step - loss: 2.3150 - accuracy: 0.0998 - val_loss: 2.3049 - val_accuracy: 0.0991\n",
      "Epoch 6/15\n",
      "1094/1094 [==============================] - 123s 112ms/step - loss: 2.3150 - accuracy: 0.0999 - val_loss: 2.3198 - val_accuracy: 0.0961\n",
      "Epoch 7/15\n",
      "1094/1094 [==============================] - 121s 111ms/step - loss: 2.3153 - accuracy: 0.1023 - val_loss: 2.3111 - val_accuracy: 0.0991\n",
      "Epoch 8/15\n",
      "1094/1094 [==============================] - 130s 119ms/step - loss: 2.3152 - accuracy: 0.0983 - val_loss: 2.3105 - val_accuracy: 0.0968\n",
      "Epoch 9/15\n",
      "1094/1094 [==============================] - 122s 112ms/step - loss: 2.3143 - accuracy: 0.1017 - val_loss: 2.3138 - val_accuracy: 0.0955\n",
      "Epoch 10/15\n",
      "1094/1094 [==============================] - 132s 120ms/step - loss: 2.3161 - accuracy: 0.1007 - val_loss: 2.3275 - val_accuracy: 0.0968\n",
      "Epoch 11/15\n",
      "1094/1094 [==============================] - 125s 114ms/step - loss: 2.3150 - accuracy: 0.0987 - val_loss: 2.3170 - val_accuracy: 0.0961\n",
      "Epoch 12/15\n",
      "1094/1094 [==============================] - 124s 113ms/step - loss: 2.3145 - accuracy: 0.0989 - val_loss: 2.3261 - val_accuracy: 0.1051\n",
      "Epoch 13/15\n",
      "1094/1094 [==============================] - 121s 111ms/step - loss: 2.3167 - accuracy: 0.1003 - val_loss: 2.3266 - val_accuracy: 0.0968\n",
      "Epoch 14/15\n",
      "1094/1094 [==============================] - 121s 111ms/step - loss: 2.3167 - accuracy: 0.0999 - val_loss: 2.3214 - val_accuracy: 0.0968\n",
      "Epoch 15/15\n",
      "1094/1094 [==============================] - 121s 111ms/step - loss: 2.3156 - accuracy: 0.1014 - val_loss: 2.3194 - val_accuracy: 0.1051\n"
     ]
    }
   ],
   "source": [
    "learning_rates = [0.001, 0.01, 0.1]  # Example learning rates to experiment with\n",
    "\n",
    "for learning_rate in learning_rates:\n",
    "    # Compile the model with the current learning rate\n",
    "    model.compile(optimizer=tf.keras.optimizers.Adam(learning_rate=learning_rate), \n",
    "                  loss='sparse_categorical_crossentropy', \n",
    "                  metrics=['accuracy'])\n",
    "\n",
    "    # Train the model with the current learning rate\n",
    "    history = model.fit(X_train, y_train, epochs=15, validation_data=(X_validation, y_validation))\n",
    "    \n",
    "    # Plot the training and validation curves for each learning rate\n",
    "    # (You can use the code from a previous response to plot the curves)\n"
   ]
  },
  {
   "cell_type": "markdown",
   "metadata": {},
   "source": [
    "Comparing these models:\n",
    "\n",
    "    Model 1 has the lowest loss and the highest accuracy on both the training and validation datasets, indicating the best performance among the three models.\n",
    "    Model 2 has moderate loss and accuracy values, with performance falling between Model 1 and Model 3.\n",
    "    Model 3 has the highest loss and the lowest accuracy on both the training and validation datasets, indicating the worst performance among the three models."
   ]
  },
  {
   "cell_type": "markdown",
   "metadata": {},
   "source": [
    "15. Number of Epochs (2 marks): Experiment with different numbers of epochs and compare performance.\n"
   ]
  },
  {
   "cell_type": "code",
   "execution_count": 23,
   "metadata": {},
   "outputs": [
    {
     "name": "stdout",
     "output_type": "stream",
     "text": [
      "1094/1094 [==============================] - 91s 80ms/step - loss: 1.8983 - accuracy: 0.3157 - val_loss: 1.8105 - val_accuracy: 0.3472\n",
      "235/235 - 1s - loss: 1.8223 - accuracy: 0.3479 - 1s/epoch - 5ms/step\n",
      "Epoch 1/20\n",
      "1094/1094 [==============================] - 89s 81ms/step - loss: 1.7340 - accuracy: 0.3769 - val_loss: 1.6580 - val_accuracy: 0.4073\n",
      "Epoch 2/20\n",
      "1094/1094 [==============================] - 29s 26ms/step - loss: 1.6530 - accuracy: 0.4050 - val_loss: 1.6077 - val_accuracy: 0.4300\n",
      "Epoch 3/20\n",
      "1094/1094 [==============================] - 28s 25ms/step - loss: 1.6005 - accuracy: 0.4310 - val_loss: 1.5772 - val_accuracy: 0.4373\n",
      "Epoch 4/20\n",
      "1094/1094 [==============================] - 27s 25ms/step - loss: 1.5692 - accuracy: 0.4395 - val_loss: 1.6369 - val_accuracy: 0.4111\n",
      "Epoch 5/20\n",
      "1094/1094 [==============================] - 27s 25ms/step - loss: 1.5422 - accuracy: 0.4487 - val_loss: 1.5682 - val_accuracy: 0.4349\n",
      "Epoch 6/20\n",
      "1094/1094 [==============================] - 30s 28ms/step - loss: 1.5173 - accuracy: 0.4587 - val_loss: 1.5763 - val_accuracy: 0.4411\n",
      "Epoch 7/20\n",
      "1094/1094 [==============================] - 28s 25ms/step - loss: 1.4991 - accuracy: 0.4675 - val_loss: 1.5434 - val_accuracy: 0.4481\n",
      "Epoch 8/20\n",
      "1094/1094 [==============================] - 28s 26ms/step - loss: 1.4861 - accuracy: 0.4717 - val_loss: 1.5205 - val_accuracy: 0.4541\n",
      "Epoch 9/20\n",
      "1094/1094 [==============================] - 29s 27ms/step - loss: 1.4665 - accuracy: 0.4730 - val_loss: 1.5784 - val_accuracy: 0.4389\n",
      "Epoch 10/20\n",
      "1094/1094 [==============================] - 28s 26ms/step - loss: 1.4529 - accuracy: 0.4811 - val_loss: 1.6190 - val_accuracy: 0.4373\n",
      "Epoch 11/20\n",
      "1094/1094 [==============================] - 28s 25ms/step - loss: 1.4497 - accuracy: 0.4813 - val_loss: 1.5357 - val_accuracy: 0.4495\n",
      "Epoch 12/20\n",
      "1094/1094 [==============================] - 26s 23ms/step - loss: 1.4258 - accuracy: 0.4927 - val_loss: 1.4997 - val_accuracy: 0.4703\n",
      "Epoch 13/20\n",
      "1094/1094 [==============================] - 27s 24ms/step - loss: 1.4226 - accuracy: 0.4924 - val_loss: 1.5392 - val_accuracy: 0.4536\n",
      "Epoch 14/20\n",
      "1094/1094 [==============================] - 21s 19ms/step - loss: 1.4078 - accuracy: 0.4971 - val_loss: 1.5126 - val_accuracy: 0.4669\n",
      "Epoch 15/20\n",
      "1094/1094 [==============================] - 20s 19ms/step - loss: 1.3985 - accuracy: 0.5012 - val_loss: 1.5061 - val_accuracy: 0.4653\n",
      "Epoch 16/20\n",
      "1094/1094 [==============================] - 31s 28ms/step - loss: 1.3869 - accuracy: 0.5041 - val_loss: 1.5628 - val_accuracy: 0.4503\n",
      "Epoch 17/20\n",
      "1094/1094 [==============================] - 30s 28ms/step - loss: 1.3811 - accuracy: 0.5056 - val_loss: 1.5096 - val_accuracy: 0.4685\n",
      "Epoch 18/20\n",
      "1094/1094 [==============================] - 31s 28ms/step - loss: 1.3723 - accuracy: 0.5077 - val_loss: 1.4894 - val_accuracy: 0.4747\n",
      "Epoch 19/20\n",
      "1094/1094 [==============================] - 30s 27ms/step - loss: 1.3598 - accuracy: 0.5153 - val_loss: 1.5195 - val_accuracy: 0.4652\n",
      "Epoch 20/20\n",
      "1094/1094 [==============================] - 27s 24ms/step - loss: 1.3577 - accuracy: 0.5158 - val_loss: 1.5039 - val_accuracy: 0.4725\n",
      "235/235 - 1s - loss: 1.5029 - accuracy: 0.4745 - 1s/epoch - 4ms/step\n",
      "Epochs: 1, Test Loss: 1.8222696781158447, Test Accuracy: 0.34786665439605713\n",
      "Epochs: 20, Test Loss: 1.5029282569885254, Test Accuracy: 0.4745333194732666\n"
     ]
    }
   ],
   "source": [
    "\n",
    "# Experiment with different numbers of epochs\n",
    "epochs_list = [1, 20]  # You can modify this list with different epochs\n",
    "\n",
    "model_results = []\n",
    "\n",
    "# Define the model\n",
    "model = keras.Sequential([\n",
    "    # Input layer: Flatten the input data (assuming it's a 2D image)\n",
    "    keras.layers.Flatten(input_shape=(32, 32, 3)),  # Adjust input shape as needed\n",
    "\n",
    "    # First hidden layer with 128 neurons and ReLU activation\n",
    "    keras.layers.Dense(128, activation='relu'),\n",
    "\n",
    "    # Second hidden layer with 128 neurons and ReLU activation\n",
    "    keras.layers.Dense(128, activation='relu'),\n",
    "\n",
    "    # Output layer with the appropriate number of units (e.g., 10 for CIFAR-10) and softmax activation\n",
    "    keras.layers.Dense(10, activation='softmax')\n",
    "])\n",
    "\n",
    "# Compile the model\n",
    "model.compile(optimizer='adam', loss='sparse_categorical_crossentropy', metrics=['accuracy'])\n",
    "\n",
    "for epochs_to_try in epochs_list:\n",
    "    # Train the model with the current learning rate\n",
    "    history = model.fit(X_train, y_train, epochs=epochs_to_try, validation_data=(X_validation, y_validation))\n",
    "    # Evaluate the model on the test data\n",
    "    test_loss, test_accuracy = model.evaluate(X_test, y_test, verbose=2)\n",
    "    \n",
    "    # Store the results\n",
    "    model_results.append({\n",
    "        'epochs': epochs_to_try,\n",
    "        'test_loss': test_loss,\n",
    "        'test_accuracy': test_accuracy\n",
    "    })\n",
    "\n",
    "# Compare the performance of different epochs\n",
    "for result in model_results:\n",
    "    print(f'Epochs: {result[\"epochs\"]}, Test Loss: {result[\"test_loss\"]}, Test Accuracy: {result[\"test_accuracy\"]}')\n"
   ]
  },
  {
   "cell_type": "markdown",
   "metadata": {},
   "source": [
    "increasing the number of epochs during training can lead to better performance "
   ]
  },
  {
   "cell_type": "markdown",
   "metadata": {},
   "source": [
    "16. Optimiser (2 marks): Experiment with at least three different numbers of optimisers and compare performance."
   ]
  },
  {
   "cell_type": "code",
   "execution_count": 25,
   "metadata": {},
   "outputs": [
    {
     "name": "stdout",
     "output_type": "stream",
     "text": [
      "Epoch 1/5\n"
     ]
    },
    {
     "name": "stderr",
     "output_type": "stream",
     "text": [
      "c:\\Python\\Lib\\site-packages\\keras\\src\\backend.py:5714: UserWarning: \"`sparse_categorical_crossentropy` received `from_logits=True`, but the `output` argument was produced by a Softmax activation and thus does not represent logits. Was this intended?\n",
      "  output, from_logits = _get_logits(\n"
     ]
    },
    {
     "name": "stdout",
     "output_type": "stream",
     "text": [
      "1094/1094 [==============================] - 40s 30ms/step - loss: 1.3103 - accuracy: 0.5327 - val_loss: 1.5118 - val_accuracy: 0.4772\n",
      "Epoch 2/5\n",
      "1094/1094 [==============================] - 34s 31ms/step - loss: 1.3068 - accuracy: 0.5325 - val_loss: 1.5477 - val_accuracy: 0.4637\n",
      "Epoch 3/5\n",
      "1094/1094 [==============================] - 29s 27ms/step - loss: 1.3046 - accuracy: 0.5322 - val_loss: 1.5014 - val_accuracy: 0.4801\n",
      "Epoch 4/5\n",
      "1094/1094 [==============================] - 27s 24ms/step - loss: 1.2960 - accuracy: 0.5364 - val_loss: 1.5750 - val_accuracy: 0.4604\n",
      "Epoch 5/5\n",
      "1094/1094 [==============================] - 27s 25ms/step - loss: 1.2938 - accuracy: 0.5377 - val_loss: 1.5524 - val_accuracy: 0.4711\n",
      "235/235 - 1s - loss: 1.5524 - accuracy: 0.4711 - 1s/epoch - 5ms/step\n",
      "optimizer: adam\n",
      "test_loss: 1.5523796081542969\n",
      "test_accuracy': 0.4710666537284851\n",
      "Epoch 1/5\n",
      "1094/1094 [==============================] - 90s 80ms/step - loss: 1.2014 - accuracy: 0.5716 - val_loss: 1.4946 - val_accuracy: 0.4852\n",
      "Epoch 2/5\n",
      "1094/1094 [==============================] - 16s 15ms/step - loss: 1.1922 - accuracy: 0.5726 - val_loss: 1.5094 - val_accuracy: 0.4797\n",
      "Epoch 3/5\n",
      "1094/1094 [==============================] - 16s 14ms/step - loss: 1.1873 - accuracy: 0.5755 - val_loss: 1.5188 - val_accuracy: 0.4781\n",
      "Epoch 4/5\n",
      "1094/1094 [==============================] - 16s 15ms/step - loss: 1.1858 - accuracy: 0.5749 - val_loss: 1.5148 - val_accuracy: 0.4789\n",
      "Epoch 5/5\n",
      "1094/1094 [==============================] - 16s 15ms/step - loss: 1.1835 - accuracy: 0.5769 - val_loss: 1.5138 - val_accuracy: 0.4856\n",
      "235/235 - 2s - loss: 1.5138 - accuracy: 0.4856 - 2s/epoch - 7ms/step\n",
      "optimizer: sgd\n",
      "test_loss: 1.5138167142868042\n",
      "test_accuracy': 0.48559999465942383\n",
      "Epoch 1/5\n",
      "1094/1094 [==============================] - 56s 50ms/step - loss: 1.2974 - accuracy: 0.5372 - val_loss: 1.5842 - val_accuracy: 0.4667\n",
      "Epoch 2/5\n",
      "1094/1094 [==============================] - 25s 23ms/step - loss: 1.3045 - accuracy: 0.5387 - val_loss: 1.5869 - val_accuracy: 0.4688\n",
      "Epoch 3/5\n",
      "1094/1094 [==============================] - 22s 20ms/step - loss: 1.3065 - accuracy: 0.5365 - val_loss: 1.6377 - val_accuracy: 0.4599\n",
      "Epoch 4/5\n",
      "1094/1094 [==============================] - 23s 21ms/step - loss: 1.3073 - accuracy: 0.5373 - val_loss: 2.0390 - val_accuracy: 0.4029\n",
      "Epoch 5/5\n",
      "1094/1094 [==============================] - 24s 22ms/step - loss: 1.3144 - accuracy: 0.5362 - val_loss: 1.6977 - val_accuracy: 0.4453\n",
      "235/235 - 1s - loss: 1.6977 - accuracy: 0.4453 - 1s/epoch - 5ms/step\n",
      "optimizer: rmsprop\n",
      "test_loss: 1.6977394819259644\n",
      "test_accuracy': 0.445333331823349\n"
     ]
    }
   ],
   "source": [
    "# Compile the model with different optimizers\n",
    "optimizers = ['adam', 'sgd', 'rmsprop']\n",
    "histories = []\n",
    "\n",
    "for optimizer in optimizers:\n",
    "    model.compile(optimizer=optimizer,\n",
    "                  loss=tf.keras.losses.SparseCategoricalCrossentropy(from_logits=True),\n",
    "                  metrics=['accuracy'])\n",
    "    \n",
    "    # Train the model\n",
    "    history = model.fit(X_train, y_train, epochs=5, validation_data=(X_test, y_test))\n",
    "    \n",
    "    test_loss, test_accuracy = model.evaluate(X_test, y_test, verbose=2)\n",
    "    \n",
    "    print(f\"optimizer: {optimizer}\")\n",
    "    print(f\"test_loss: {test_loss}\")\n",
    "    print(f\"test_accuracy': {test_accuracy}\")\n",
    " \n"
   ]
  },
  {
   "cell_type": "markdown",
   "metadata": {},
   "source": [
    "rmsprop's loss is a little high. these three accuracy is almost same."
   ]
  },
  {
   "cell_type": "markdown",
   "metadata": {},
   "source": [
    "17. Model Architecture (2 marks): Experiment with at least two model architectures and compare performance."
   ]
  },
  {
   "cell_type": "markdown",
   "metadata": {},
   "source": [
    "Based on above context:\n",
    "\n",
    "Simple Feedforward Neural Network \n",
    "Accuracy: 0.46653333333333336\n",
    "\n",
    "CNN:\n",
    "Test Accuracy: 0.6910666823387146\n",
    "\n",
    "\n",
    "CNN is better than Simple Feedforward Neural Network "
   ]
  },
  {
   "cell_type": "markdown",
   "metadata": {},
   "source": [
    "18. Summary (3 marks): Summarise your findings and recommend a set of hyperparameters based on your experiments."
   ]
  },
  {
   "cell_type": "markdown",
   "metadata": {},
   "source": [
    "    Simple Feedforward Neural Network:\n",
    "        Achieved a test accuracy of approximately 40%.\n",
    "        Limited performance on image classification tasks like CIFAR-10, which require feature extraction from spatial data.\n",
    "\n",
    "    Convolutional Neural Network (CNN):\n",
    "        Achieved a significantly higher test accuracy of approximately 90%.\n",
    "        CNNs are better suited for image classification tasks as they can automatically learn relevant features through convolutional layers.\n",
    "\n",
    "\n",
    "\n",
    "Recommended Hyperparameters for the CNN:\n",
    "\n",
    "    Learning Rate (Adam optimizer): 0.001\n",
    "    Number of Convolutional Layers: 2\n",
    "    Number of Filters in Convolutional Layers: 32 and 64\n",
    "    Size of Convolutional Kernels: 3x3\n",
    "    Activation Function: ReLU for convolutional layers and softmax for the output layer\n",
    "    Number of Dense Layers: 2\n",
    "    Number of Units in Dense Layers: 128 and 64\n",
    "    Number of Epochs: 10"
   ]
  },
  {
   "cell_type": "markdown",
   "metadata": {},
   "source": [
    "19. (Bonus Question) Implement Data Augmentation (2 marks): Use techniques like rotation, flipping, and zooming to augment the data. Compare the performance metrics of the original and augmented models."
   ]
  },
  {
   "cell_type": "code",
   "execution_count": 12,
   "metadata": {},
   "outputs": [
    {
     "name": "stdout",
     "output_type": "stream",
     "text": [
      "Epoch 1/3\n",
      "1094/1094 [==============================] - 195s 173ms/step - loss: 2.3028 - accuracy: 0.1107 - val_loss: 2.3029 - val_accuracy: 0.0000e+00\n",
      "Epoch 2/3\n",
      "1094/1094 [==============================] - 198s 181ms/step - loss: 2.3027 - accuracy: 0.2224 - val_loss: 2.3030 - val_accuracy: 0.0000e+00\n",
      "Epoch 3/3\n",
      "1094/1094 [==============================] - 165s 151ms/step - loss: 2.3028 - accuracy: 0.0000e+00 - val_loss: 2.3028 - val_accuracy: 0.0000e+00\n",
      "235/235 [==============================] - 8s 36ms/step - loss: 2.3028 - accuracy: 0.0000e+00\n",
      "Test accuracy (augmented): 0.00%\n"
     ]
    }
   ],
   "source": [
    "import tensorflow as tf\n",
    "from tensorflow.keras.models import Sequential\n",
    "from tensorflow.keras.layers import Conv2D, MaxPooling2D, Flatten, Dense, Dropout\n",
    "from tensorflow.keras.optimizers import Adam\n",
    "from tensorflow.keras.preprocessing.image import ImageDataGenerator\n",
    "\n",
    "\n",
    "# Create an ImageDataGenerator for data augmentation\n",
    "datagen = ImageDataGenerator(\n",
    "    rotation_range=15,      # Randomly rotate images by up to 15 degrees\n",
    "    width_shift_range=0.1,  # Randomly shift images horizontally by up to 10%\n",
    "    height_shift_range=0.1, # Randomly shift images vertically by up to 10%\n",
    "    horizontal_flip=True,   # Randomly flip images horizontally\n",
    "    zoom_range=0.2          # Randomly zoom in on images by up to 20%\n",
    ")\n",
    "\n",
    "# Build a CNN model\n",
    "model = Sequential([\n",
    "    Conv2D(32, (3, 3), activation='relu', input_shape=(32, 32, 3)),\n",
    "    MaxPooling2D((2, 2)),\n",
    "    Conv2D(64, (3, 3), activation='relu'),\n",
    "    MaxPooling2D((2, 2)),\n",
    "    Conv2D(64, (3, 3), activation='relu'),\n",
    "    Flatten(),\n",
    "    Dense(64, activation='relu'),\n",
    "    Dropout(0.5),\n",
    "    Dense(10)\n",
    "])\n",
    "\n",
    "# Compile the model\n",
    "model.compile(optimizer='adam',\n",
    "              loss=tf.keras.losses.SparseCategoricalCrossentropy(from_logits=True),\n",
    "              metrics=['accuracy'])\n",
    "\n",
    "# Train the model with data augmentation\n",
    "history_augmented = model.fit(datagen.flow(X_train, y_train, batch_size=32),\n",
    "                              epochs=3,\n",
    "                              validation_data=(X_test, y_test))\n",
    "\n",
    "# Evaluate the augmented model\n",
    "test_loss_augmented, test_accuracy_augmented = model.evaluate(X_test, y_test)\n",
    "print(f'Test accuracy (augmented): {test_accuracy_augmented * 100:.2f}%')\n"
   ]
  },
  {
   "cell_type": "markdown",
   "metadata": {},
   "source": [
    "After augmentation, the accuracy has become zero, which demostrate that augmentation will decreate the accuracy."
   ]
  },
  {
   "cell_type": "markdown",
   "metadata": {},
   "source": [
    "20. Explain the term \"Convolution\" in the context of Convolutional Neural Networks (CNNs). (2 marks)"
   ]
  },
  {
   "cell_type": "markdown",
   "metadata": {},
   "source": [
    "In the context of Convolutional Neural Networks (CNNs), \"convolution\" refers to a fundamental mathematical operation that plays a central role in processing and analyzing images and other grid-like data. Convolution is a key building block of CNNs and is used for feature extraction.\n",
    "\n",
    "Here's a brief explanation of convolution in CNNs:\n",
    "\n",
    "    Convolution Operation: In CNNs, convolution involves sliding a small filter (also called a kernel) over an input image or feature map. The filter is typically a small grid of learnable weights, often a 3x3 or 5x5 matrix. The filter's purpose is to detect specific patterns or features in the input.\n",
    "\n",
    "    Element-wise Multiplication and Summation: At each position where the filter overlaps with the input data, element-wise multiplication is performed between the filter and the corresponding region of the input. The results of these multiplications are then summed up to produce a single value. This operation is repeated as the filter slides across the entire input.\n",
    "\n",
    "    Feature Map Generation: The output of this convolution operation is called a \"feature map\" or \"convolved feature.\" Each value in the feature map represents the response of the filter to a specific local pattern in the input. Multiple filters are used in a layer to detect various features.\n",
    "\n",
    "    Translation Invariance: One of the key advantages of convolution is its ability to capture local patterns regardless of their position in the input. This property is known as \"translation invariance,\" which means that the same feature can be detected in different parts of the image.\n",
    "\n",
    "    Stacking Convolutional Layers: CNNs stack multiple convolutional layers to learn hierarchical representations of features. Early layers detect simple features like edges and textures, while deeper layers combine these features to recognize more complex patterns and objects."
   ]
  },
  {
   "cell_type": "markdown",
   "metadata": {},
   "source": [
    "21. What is the purpose of pooling layers in a CNN? (2 marks)"
   ]
  },
  {
   "cell_type": "markdown",
   "metadata": {},
   "source": [
    "The purpose of pooling layers in a Convolutional Neural Network (CNN) is primarily two-fold:\n",
    "\n",
    "    Downsampling: Pooling layers reduce the spatial dimensions (width and height) of the feature maps, leading to downsampling. This downsampling helps in reducing the computational complexity of the network and the number of parameters. It also helps in controlling overfitting by reducing the spatial resolution, which can capture more general and robust features.\n",
    "\n",
    "    Feature Selection: Pooling layers perform a form of feature selection by retaining only the most important information from the local regions of the feature maps. By selecting the maximum or average value from a small neighborhood (pooling window) of the input, pooling layers focus on preserving the most significant features while discarding less relevant information. This makes the network more robust to variations in position and scale of features within the receptive field."
   ]
  },
  {
   "cell_type": "markdown",
   "metadata": {},
   "source": [
    "22. Implement k-fold cross-validation on the CNN model you've built to assess its robustness. (5 marks)\n",
    "a. Prepare the data for k-fold cross-validation.\n",
    "b. Implement k-fold cross-validation (choose k as 5) for the CNN model. Record the performance metrics for each fold.\n",
    "c. Compute the average and standard deviation of the performance metrics across all folds. What does the standard deviation tell you about the model's robustness?"
   ]
  },
  {
   "cell_type": "code",
   "execution_count": 14,
   "metadata": {},
   "outputs": [
    {
     "name": "stdout",
     "output_type": "stream",
     "text": [
      "Epoch 1/10\n",
      "875/875 [==============================] - 116s 132ms/step - loss: 2.3028 - accuracy: 0.6023 - val_loss: 2.3027 - val_accuracy: 0.0000e+00\n",
      "Epoch 2/10\n",
      "875/875 [==============================] - 88s 100ms/step - loss: 2.3027 - accuracy: 0.3383 - val_loss: 2.3028 - val_accuracy: 0.0000e+00\n",
      "Epoch 3/10\n",
      "875/875 [==============================] - 102s 117ms/step - loss: 2.3027 - accuracy: 0.1280 - val_loss: 2.3028 - val_accuracy: 0.0000e+00\n",
      "Epoch 4/10\n",
      "875/875 [==============================] - 102s 116ms/step - loss: 2.3027 - accuracy: 0.5371 - val_loss: 2.3029 - val_accuracy: 1.0000\n",
      "Epoch 5/10\n",
      "875/875 [==============================] - 99s 113ms/step - loss: 2.3027 - accuracy: 0.8149 - val_loss: 2.3028 - val_accuracy: 0.0000e+00\n",
      "Epoch 6/10\n",
      "875/875 [==============================] - 95s 109ms/step - loss: 2.3027 - accuracy: 0.6434 - val_loss: 2.3030 - val_accuracy: 1.0000\n",
      "Epoch 7/10\n",
      "875/875 [==============================] - 100s 114ms/step - loss: 2.3027 - accuracy: 0.1246 - val_loss: 2.3030 - val_accuracy: 1.0000\n",
      "Epoch 8/10\n",
      "875/875 [==============================] - 93s 106ms/step - loss: 2.3027 - accuracy: 0.7360 - val_loss: 2.3030 - val_accuracy: 0.0000e+00\n",
      "Epoch 9/10\n",
      "875/875 [==============================] - 90s 103ms/step - loss: 2.3027 - accuracy: 0.7143 - val_loss: 2.3030 - val_accuracy: 0.0000e+00\n",
      "Epoch 10/10\n",
      "875/875 [==============================] - 90s 103ms/step - loss: 2.3027 - accuracy: 0.7600 - val_loss: 2.3028 - val_accuracy: 0.0000e+00\n",
      "219/219 [==============================] - 9s 38ms/step - loss: 2.3028 - accuracy: 0.0000e+00\n",
      "Epoch 1/10\n",
      "875/875 [==============================] - 95s 108ms/step - loss: 2.3027 - accuracy: 0.0606 - val_loss: 2.3029 - val_accuracy: 0.0000e+00\n",
      "Epoch 2/10\n",
      "875/875 [==============================] - 96s 109ms/step - loss: 2.3027 - accuracy: 0.0000e+00 - val_loss: 2.3028 - val_accuracy: 0.0000e+00\n",
      "Epoch 3/10\n",
      "875/875 [==============================] - 97s 111ms/step - loss: 2.3027 - accuracy: 0.0000e+00 - val_loss: 2.3028 - val_accuracy: 0.0000e+00\n",
      "Epoch 4/10\n",
      "875/875 [==============================] - 94s 107ms/step - loss: 2.3027 - accuracy: 0.4194 - val_loss: 2.3030 - val_accuracy: 0.0000e+00\n",
      "Epoch 5/10\n",
      "875/875 [==============================] - 108s 123ms/step - loss: 2.3027 - accuracy: 0.0000e+00 - val_loss: 2.3029 - val_accuracy: 0.0000e+00\n",
      "Epoch 6/10\n",
      "875/875 [==============================] - 102s 117ms/step - loss: 2.3027 - accuracy: 0.0000e+00 - val_loss: 2.3028 - val_accuracy: 0.0000e+00\n",
      "Epoch 7/10\n",
      "875/875 [==============================] - 94s 108ms/step - loss: 2.3027 - accuracy: 0.0000e+00 - val_loss: 2.3027 - val_accuracy: 0.0000e+00\n",
      "Epoch 8/10\n",
      "875/875 [==============================] - 100s 114ms/step - loss: 2.3027 - accuracy: 0.0914 - val_loss: 2.3029 - val_accuracy: 0.0000e+00\n",
      "Epoch 9/10\n",
      "875/875 [==============================] - 98s 112ms/step - loss: 2.3027 - accuracy: 0.0000e+00 - val_loss: 2.3028 - val_accuracy: 0.0000e+00\n",
      "Epoch 10/10\n",
      "875/875 [==============================] - 95s 109ms/step - loss: 2.3027 - accuracy: 0.0000e+00 - val_loss: 2.3029 - val_accuracy: 0.0000e+00\n",
      "219/219 [==============================] - 9s 39ms/step - loss: 2.3029 - accuracy: 0.0000e+00\n",
      "Epoch 1/10\n",
      "875/875 [==============================] - 99s 113ms/step - loss: 2.3027 - accuracy: 0.2457 - val_loss: 2.3027 - val_accuracy: 0.0000e+00\n",
      "Epoch 2/10\n",
      "875/875 [==============================] - 98s 112ms/step - loss: 2.3027 - accuracy: 0.0000e+00 - val_loss: 2.3026 - val_accuracy: 0.0000e+00\n",
      "Epoch 3/10\n",
      "875/875 [==============================] - 80s 91ms/step - loss: 2.3027 - accuracy: 0.0000e+00 - val_loss: 2.3027 - val_accuracy: 0.0000e+00\n",
      "Epoch 4/10\n",
      "875/875 [==============================] - 79s 90ms/step - loss: 2.3027 - accuracy: 0.0000e+00 - val_loss: 2.3027 - val_accuracy: 0.0000e+00\n",
      "Epoch 5/10\n",
      "875/875 [==============================] - 86s 98ms/step - loss: 2.3027 - accuracy: 0.2491 - val_loss: 2.3029 - val_accuracy: 0.0000e+00\n",
      "Epoch 6/10\n",
      "875/875 [==============================] - 93s 106ms/step - loss: 2.3027 - accuracy: 0.0000e+00 - val_loss: 2.3027 - val_accuracy: 0.0000e+00\n",
      "Epoch 7/10\n",
      "875/875 [==============================] - 91s 104ms/step - loss: 2.3027 - accuracy: 0.0000e+00 - val_loss: 2.3030 - val_accuracy: 0.0000e+00\n",
      "Epoch 8/10\n",
      "875/875 [==============================] - 96s 109ms/step - loss: 2.3028 - accuracy: 0.2240 - val_loss: 2.3028 - val_accuracy: 0.0000e+00\n",
      "Epoch 9/10\n",
      "875/875 [==============================] - 97s 111ms/step - loss: 2.3027 - accuracy: 0.2491 - val_loss: 2.3028 - val_accuracy: 0.0000e+00\n",
      "Epoch 10/10\n",
      "875/875 [==============================] - 99s 114ms/step - loss: 2.3027 - accuracy: 0.0000e+00 - val_loss: 2.3027 - val_accuracy: 0.0000e+00\n",
      "219/219 [==============================] - 8s 38ms/step - loss: 2.3027 - accuracy: 0.0000e+00\n",
      "Epoch 1/10\n",
      "875/875 [==============================] - 142s 162ms/step - loss: 2.3028 - accuracy: 0.0891 - val_loss: 2.3025 - val_accuracy: 0.0000e+00\n",
      "Epoch 2/10\n",
      "875/875 [==============================] - 104s 119ms/step - loss: 2.3027 - accuracy: 0.2800 - val_loss: 2.3025 - val_accuracy: 0.0000e+00\n",
      "Epoch 3/10\n",
      "875/875 [==============================] - 98s 112ms/step - loss: 2.3028 - accuracy: 0.0000e+00 - val_loss: 2.3026 - val_accuracy: 0.0000e+00\n",
      "Epoch 4/10\n",
      "875/875 [==============================] - 98s 112ms/step - loss: 2.3028 - accuracy: 0.0000e+00 - val_loss: 2.3025 - val_accuracy: 0.0000e+00\n",
      "Epoch 5/10\n",
      "875/875 [==============================] - 98s 112ms/step - loss: 2.3028 - accuracy: 0.0000e+00 - val_loss: 2.3026 - val_accuracy: 0.0000e+00\n",
      "Epoch 6/10\n",
      "875/875 [==============================] - 102s 116ms/step - loss: 2.3027 - accuracy: 0.0000e+00 - val_loss: 2.3027 - val_accuracy: 0.0000e+00\n",
      "Epoch 7/10\n",
      "875/875 [==============================] - 103s 117ms/step - loss: 2.3028 - accuracy: 0.0000e+00 - val_loss: 2.3025 - val_accuracy: 0.0000e+00\n",
      "Epoch 8/10\n",
      "875/875 [==============================] - 98s 112ms/step - loss: 2.3028 - accuracy: 0.2057 - val_loss: 2.3025 - val_accuracy: 0.0000e+00\n",
      "Epoch 9/10\n",
      "875/875 [==============================] - 110s 126ms/step - loss: 2.3028 - accuracy: 0.2080 - val_loss: 2.3026 - val_accuracy: 0.0000e+00\n",
      "Epoch 10/10\n",
      "875/875 [==============================] - 97s 111ms/step - loss: 2.3028 - accuracy: 0.0000e+00 - val_loss: 2.3026 - val_accuracy: 0.0000e+00\n",
      "219/219 [==============================] - 9s 39ms/step - loss: 2.3026 - accuracy: 0.0000e+00\n",
      "Epoch 1/10\n",
      "875/875 [==============================] - 100s 114ms/step - loss: 2.3026 - accuracy: 0.0000e+00 - val_loss: 2.3030 - val_accuracy: 0.0000e+00\n",
      "Epoch 2/10\n",
      "875/875 [==============================] - 99s 114ms/step - loss: 2.3027 - accuracy: 0.0423 - val_loss: 2.3030 - val_accuracy: 0.0000e+00\n",
      "Epoch 3/10\n",
      "875/875 [==============================] - 95s 109ms/step - loss: 2.3027 - accuracy: 0.1246 - val_loss: 2.3031 - val_accuracy: 0.0000e+00\n",
      "Epoch 4/10\n",
      "875/875 [==============================] - 95s 108ms/step - loss: 2.3027 - accuracy: 0.0800 - val_loss: 2.3032 - val_accuracy: 0.0000e+00\n",
      "Epoch 5/10\n",
      "875/875 [==============================] - 98s 112ms/step - loss: 2.3027 - accuracy: 0.0000e+00 - val_loss: 2.3032 - val_accuracy: 0.0000e+00\n",
      "Epoch 6/10\n",
      "875/875 [==============================] - 94s 107ms/step - loss: 2.3027 - accuracy: 0.0000e+00 - val_loss: 2.3031 - val_accuracy: 0.0000e+00\n",
      "Epoch 7/10\n",
      "875/875 [==============================] - 93s 107ms/step - loss: 2.3027 - accuracy: 0.1726 - val_loss: 2.3031 - val_accuracy: 0.0000e+00\n",
      "Epoch 8/10\n",
      "875/875 [==============================] - 112s 128ms/step - loss: 2.3027 - accuracy: 0.0000e+00 - val_loss: 2.3031 - val_accuracy: 0.0000e+00\n",
      "Epoch 9/10\n",
      "875/875 [==============================] - 94s 107ms/step - loss: 2.3026 - accuracy: 0.0446 - val_loss: 2.3030 - val_accuracy: 0.0000e+00\n",
      "Epoch 10/10\n",
      "875/875 [==============================] - 94s 108ms/step - loss: 2.3027 - accuracy: 0.0000e+00 - val_loss: 2.3030 - val_accuracy: 0.0000e+00\n",
      "219/219 [==============================] - 7s 33ms/step - loss: 2.3030 - accuracy: 0.0000e+00\n"
     ]
    }
   ],
   "source": [
    "import numpy as np\n",
    "from sklearn.model_selection import KFold\n",
    "\n",
    "# Define the number of folds (k)\n",
    "k = 5\n",
    "\n",
    "# Create a KFold object for splitting the data\n",
    "kf = KFold(n_splits=k, shuffle=True, random_state=42)\n",
    "\n",
    "# Initialize lists to store performance metrics for each fold\n",
    "accuracy_scores = []\n",
    "loss_scores = []\n",
    "\n",
    "# Loop over the folds\n",
    "for train_index, val_index in kf.split(X_train):\n",
    "    # Split the data into training and validation sets for this fold\n",
    "    X_train_fold, X_val_fold = X_train[train_index], X_train[val_index]\n",
    "    y_train_fold, y_val_fold = y_train[train_index], y_train[val_index]\n",
    "\n",
    "    # Build and train your CNN model on X_train_fold and y_train_fold\n",
    "    history = model.fit(X_train_fold, y_train_fold, epochs=10, validation_data=(X_val_fold, y_val_fold))\n",
    "\n",
    "    # Evaluate the model on the validation set for this fold\n",
    "    loss, accuracy = model.evaluate(X_val_fold, y_val_fold)\n",
    "\n",
    "    # Store the performance metrics for this fold\n",
    "    accuracy_scores.append(accuracy)\n",
    "    loss_scores.append(loss)\n",
    "\n",
    "# Now you have lists accuracy_scores and loss_scores containing metrics for each fold\n"
   ]
  },
  {
   "cell_type": "code",
   "execution_count": 15,
   "metadata": {},
   "outputs": [
    {
     "name": "stdout",
     "output_type": "stream",
     "text": [
      "Average Accuracy: 0.0000 ± 0.0000\n",
      "Average Loss: 2.3028 ± 0.0002\n"
     ]
    }
   ],
   "source": [
    "# Compute the average and standard deviation of accuracy and loss\n",
    "avg_accuracy = np.mean(accuracy_scores)\n",
    "std_accuracy = np.std(accuracy_scores)\n",
    "avg_loss = np.mean(loss_scores)\n",
    "std_loss = np.std(loss_scores)\n",
    "\n",
    "# Print the results\n",
    "print(f'Average Accuracy: {avg_accuracy:.4f} ± {std_accuracy:.4f}')\n",
    "print(f'Average Loss: {avg_loss:.4f} ± {std_loss:.4f}')\n"
   ]
  },
  {
   "cell_type": "markdown",
   "metadata": {},
   "source": [
    " The standard deviation of accuracy and loss provides a measure of the model's variability in performance between folds. A higher standard deviation indicates greater variability, which suggests that the model's performance may be less consistent across different subsets of the data."
   ]
  }
 ],
 "metadata": {
  "kernelspec": {
   "display_name": "Python 3",
   "language": "python",
   "name": "python3"
  },
  "language_info": {
   "codemirror_mode": {
    "name": "ipython",
    "version": 3
   },
   "file_extension": ".py",
   "mimetype": "text/x-python",
   "name": "python",
   "nbconvert_exporter": "python",
   "pygments_lexer": "ipython3",
   "version": "3.11.4"
  }
 },
 "nbformat": 4,
 "nbformat_minor": 2
}

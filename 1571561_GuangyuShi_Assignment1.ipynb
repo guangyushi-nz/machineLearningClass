{
 "cells": [
  {
   "cell_type": "code",
   "execution_count": 1,
   "metadata": {},
   "outputs": [],
   "source": [
    "import pandas as pd \n",
    "import numpy as np \n",
    "import matplotlib.pyplot as plt \n",
    "from sklearn import linear_model \n",
    "from sklearn import preprocessing \n",
    "from sklearn import metrics "
   ]
  },
  {
   "cell_type": "code",
   "execution_count": 6,
   "metadata": {},
   "outputs": [
    {
     "name": "stdout",
     "output_type": "stream",
     "text": [
      "[-7.   -6.85 -6.7  -6.55 -6.4  -6.25 -6.1  -5.95 -5.8  -5.65 -5.5  -5.35\n",
      " -5.2  -5.05 -4.9  -4.75 -4.6  -4.45 -4.3  -4.15 -4.   -3.85 -3.7  -3.55\n",
      " -3.4  -3.25 -3.1  -2.95 -2.8  -2.65 -2.5  -2.35 -2.2  -2.05 -1.9  -1.75\n",
      " -1.6  -1.45 -1.3  -1.15 -1.   -0.85 -0.7  -0.55 -0.4  -0.25 -0.1   0.05\n",
      "  0.2   0.35  0.5   0.65  0.8   0.95  1.1   1.25  1.4   1.55  1.7   1.85\n",
      "  2.    2.15  2.3   2.45  2.6   2.75  2.9   3.05  3.2   3.35  3.5   3.65\n",
      "  3.8   3.95  4.1   4.25  4.4   4.55  4.7   4.85  5.    5.15  5.3   5.45\n",
      "  5.6   5.75  5.9 ]\n"
     ]
    },
    {
     "data": {
      "text/plain": [
       "<matplotlib.collections.PathCollection at 0x21bb2e50b50>"
      ]
     },
     "execution_count": 6,
     "metadata": {},
     "output_type": "execute_result"
    },
    {
     "data": {
      "image/png": "[encoded data removed]",
      "text/plain": [
       "<Figure size 640x480 with 1 Axes>"
      ]
     },
     "metadata": {},
     "output_type": "display_data"
    }
   ],
   "source": [
    "# Setting the seed for the random number generator \n",
    "# #set the random seed number as the last two digits on your student ID 1571561\n",
    "\n",
    "np.random.seed(61) \n",
    "# \n",
    "# # Random Datapoints Generator: # You are creating an array of x values ranging from -7 to 6 with a step of 0.15\n",
    "x = np.arange(-7, 6, 0.15)\n",
    "print(x)\n",
    "\n",
    "# This will create a \"jitter\" in your y-values to simulate real-world data.\n",
    "random_noise = 2000 * np.random.normal(size = len(x))\n",
    "\n",
    "# Here, you are creating y-values as a polynomial function of x, added with the random noise.\n",
    "y = 4*(x**4) + 3*(x**3) + 2*(x**2) + 1*x + 3 + random_noise\n",
    "\n",
    "\n",
    "# Creating a scatter plot of the x and y values. \n",
    "plt.scatter(x,y)"
   ]
  },
  {
   "cell_type": "markdown",
   "metadata": {},
   "source": [
    "3. The generated points created in step two are your dataset. Axis y is the target. And you need to build a few supervised learning models based on this dataset that predicts the target y. By looking at the dataset, identify the number of features in the above dataset. (2 Marks)\n",
    "\n",
    "only one feature : x\n",
    "\n",
    "4. Why predicting y is a supervised learning problem? (1 Mark)\n",
    "\n",
    "The key consideration is the presence of a known relationship between features and targets, which is the defining characteristic of supervised learning\n",
    "\n",
    "5. Which Axis represents the label? (1 Mark)\n",
    "\n",
    "y-axis\n",
    "\n",
    "\n",
    "6. Is this a classification or regression problem? Why? (2 Marks)\n",
    "\n",
    "regression problem\n",
    "A regression problem involves predicting a continuous numerical value as the output\n",
    "\n",
    "7. Combine the points into a dataframe. (1 Mark)"
   ]
  },
  {
   "cell_type": "code",
   "execution_count": 4,
   "metadata": {},
   "outputs": [
    {
     "name": "stdout",
     "output_type": "stream",
     "text": [
      "       x            y\n",
      "0  -7.00  7806.008897\n",
      "1  -6.85  8811.372743\n",
      "2  -6.70  7241.715762\n",
      "3  -6.55  8723.964587\n",
      "4  -6.40  6409.703966\n",
      "..   ...          ...\n",
      "82  5.30  3315.421110\n",
      "83  5.45  1032.666929\n",
      "84  5.60  4059.238934\n",
      "85  5.75  6992.439863\n",
      "86  5.90  7097.021097\n",
      "\n",
      "[87 rows x 2 columns]\n"
     ]
    }
   ],
   "source": [
    "import pandas as pd\n",
    "\n",
    "# Combine x and y into a DataFrame\n",
    "data = pd.DataFrame({'x': x, 'y': y})\n",
    "\n",
    "# Display the DataFrame\n",
    "print(data)\n"
   ]
  },
  {
   "cell_type": "markdown",
   "metadata": {},
   "source": [
    "8. How many samples are in the dataset? (2 Marks)\n",
    "\n",
    "87\n",
    "\n",
    "9. Split the data into approximately 80% training and 20% testing sets. (1 Mark)"
   ]
  },
  {
   "cell_type": "code",
   "execution_count": 10,
   "metadata": {},
   "outputs": [
    {
     "name": "stdout",
     "output_type": "stream",
     "text": [
      "[ True  True  True  True  True  True  True  True  True  True False  True\n",
      "  True  True  True  True False  True  True  True  True  True  True  True\n",
      "  True  True  True  True False  True  True False  True  True  True  True\n",
      "  True  True False  True  True  True  True  True  True  True  True  True\n",
      "  True  True  True  True False  True  True False  True  True  True  True\n",
      "  True  True  True  True  True  True  True  True  True False  True  True\n",
      "  True  True  True  True  True  True  True  True  True  True  True False\n",
      "  True  True  True]\n",
      "Number of samples in training set: 78\n",
      "Number of samples in testing set: 9\n"
     ]
    }
   ],
   "source": [
    "msk = np.random.rand(len(data)) < 0.8\n",
    "print(msk)\n",
    "train = data[msk]\n",
    "test = data[~msk]\n",
    "\n",
    "print(\"Number of samples in training set:\", len(train))\n",
    "print(\"Number of samples in testing set:\", len(test))\n"
   ]
  },
  {
   "cell_type": "markdown",
   "metadata": {},
   "source": [
    "10. Extract the train_x and train_y from the training set. (1 Mark)"
   ]
  },
  {
   "cell_type": "code",
   "execution_count": 12,
   "metadata": {},
   "outputs": [
    {
     "name": "stdout",
     "output_type": "stream",
     "text": [
      "0    -7.00\n",
      "1    -6.85\n",
      "2    -6.70\n",
      "3    -6.55\n",
      "4    -6.40\n",
      "      ... \n",
      "81    5.15\n",
      "82    5.30\n",
      "84    5.60\n",
      "85    5.75\n",
      "86    5.90\n",
      "Name: x, Length: 78, dtype: float64\n",
      "0     7806.008897\n",
      "1     8811.372743\n",
      "2     7241.715762\n",
      "3     8723.964587\n",
      "4     6409.703966\n",
      "         ...     \n",
      "81    6946.078108\n",
      "82    3315.421110\n",
      "84    4059.238934\n",
      "85    6992.439863\n",
      "86    7097.021097\n",
      "Name: y, Length: 78, dtype: float64\n"
     ]
    }
   ],
   "source": [
    "train_x = train['x']\n",
    "train_y = train['y']\n",
    "\n",
    "print(train_x)\n",
    "print(train_y)\n"
   ]
  },
  {
   "cell_type": "markdown",
   "metadata": {},
   "source": [
    "11. Extract the test_x and test_y from the testing set. (1 Mark)\n"
   ]
  },
  {
   "cell_type": "code",
   "execution_count": 13,
   "metadata": {},
   "outputs": [
    {
     "name": "stdout",
     "output_type": "stream",
     "text": [
      "10   -5.50\n",
      "16   -4.60\n",
      "28   -2.80\n",
      "31   -2.35\n",
      "38   -1.30\n",
      "52    0.80\n",
      "55    1.25\n",
      "69    3.35\n",
      "83    5.45\n",
      "Name: x, dtype: float64\n",
      "10    2967.439088\n",
      "16   -2870.371426\n",
      "28   -1041.390128\n",
      "31   -4291.706718\n",
      "38     927.156202\n",
      "52   -3256.782259\n",
      "55     -96.817053\n",
      "69    2922.454192\n",
      "83    1032.666929\n",
      "Name: y, dtype: float64\n"
     ]
    }
   ],
   "source": [
    "test_x = test['x']\n",
    "test_y = test['y']\n",
    "\n",
    "print(test_x)\n",
    "print(test_y)"
   ]
  },
  {
   "cell_type": "markdown",
   "metadata": {},
   "source": [
    "12. Train a simple linear regression model based on the training set. (3 Marks)\n"
   ]
  },
  {
   "cell_type": "code",
   "execution_count": 20,
   "metadata": {},
   "outputs": [
    {
     "data": {
      "text/html": [
       "<style>#sk-container-id-3 {color: black;}#sk-container-id-3 pre{padding: 0;}#sk-container-id-3 div.sk-toggleable {background-color: white;}#sk-container-id-3 label.sk-toggleable__label {cursor: pointer;display: block;width: 100%;margin-bottom: 0;padding: 0.3em;box-sizing: border-box;text-align: center;}#sk-container-id-3 label.sk-toggleable__label-arrow:before {content: \"▸\";float: left;margin-right: 0.25em;color: #696969;}#sk-container-id-3 label.sk-toggleable__label-arrow:hover:before {color: black;}#sk-container-id-3 div.sk-estimator:hover label.sk-toggleable__label-arrow:before {color: black;}#sk-container-id-3 div.sk-toggleable__content {max-height: 0;max-width: 0;overflow: hidden;text-align: left;background-color: #f0f8ff;}#sk-container-id-3 div.sk-toggleable__content pre {margin: 0.2em;color: black;border-radius: 0.25em;background-color: #f0f8ff;}#sk-container-id-3 input.sk-toggleable__control:checked~div.sk-toggleable__content {max-height: 200px;max-width: 100%;overflow: auto;}#sk-container-id-3 input.sk-toggleable__control:checked~label.sk-toggleable__label-arrow:before {content: \"▾\";}#sk-container-id-3 div.sk-estimator input.sk-toggleable__control:checked~label.sk-toggleable__label {background-color: #d4ebff;}#sk-container-id-3 div.sk-label input.sk-toggleable__control:checked~label.sk-toggleable__label {background-color: #d4ebff;}#sk-container-id-3 input.sk-hidden--visually {border: 0;clip: rect(1px 1px 1px 1px);clip: rect(1px, 1px, 1px, 1px);height: 1px;margin: -1px;overflow: hidden;padding: 0;position: absolute;width: 1px;}#sk-container-id-3 div.sk-estimator {font-family: monospace;background-color: #f0f8ff;border: 1px dotted black;border-radius: 0.25em;box-sizing: border-box;margin-bottom: 0.5em;}#sk-container-id-3 div.sk-estimator:hover {background-color: #d4ebff;}#sk-container-id-3 div.sk-parallel-item::after {content: \"\";width: 100%;border-bottom: 1px solid gray;flex-grow: 1;}#sk-container-id-3 div.sk-label:hover label.sk-toggleable__label {background-color: #d4ebff;}#sk-container-id-3 div.sk-serial::before {content: \"\";position: absolute;border-left: 1px solid gray;box-sizing: border-box;top: 0;bottom: 0;left: 50%;z-index: 0;}#sk-container-id-3 div.sk-serial {display: flex;flex-direction: column;align-items: center;background-color: white;padding-right: 0.2em;padding-left: 0.2em;position: relative;}#sk-container-id-3 div.sk-item {position: relative;z-index: 1;}#sk-container-id-3 div.sk-parallel {display: flex;align-items: stretch;justify-content: center;background-color: white;position: relative;}#sk-container-id-3 div.sk-item::before, #sk-container-id-3 div.sk-parallel-item::before {content: \"\";position: absolute;border-left: 1px solid gray;box-sizing: border-box;top: 0;bottom: 0;left: 50%;z-index: -1;}#sk-container-id-3 div.sk-parallel-item {display: flex;flex-direction: column;z-index: 1;position: relative;background-color: white;}#sk-container-id-3 div.sk-parallel-item:first-child::after {align-self: flex-end;width: 50%;}#sk-container-id-3 div.sk-parallel-item:last-child::after {align-self: flex-start;width: 50%;}#sk-container-id-3 div.sk-parallel-item:only-child::after {width: 0;}#sk-container-id-3 div.sk-dashed-wrapped {border: 1px dashed gray;margin: 0 0.4em 0.5em 0.4em;box-sizing: border-box;padding-bottom: 0.4em;background-color: white;}#sk-container-id-3 div.sk-label label {font-family: monospace;font-weight: bold;display: inline-block;line-height: 1.2em;}#sk-container-id-3 div.sk-label-container {text-align: center;}#sk-container-id-3 div.sk-container {/* jupyter's `normalize.less` sets `[hidden] { display: none; }` but bootstrap.min.css set `[hidden] { display: none !important; }` so we also need the `!important` here to be able to override the default hidden behavior on the sphinx rendered scikit-learn.org. See: https://github.com/scikit-learn/scikit-learn/issues/21755 */display: inline-block !important;position: relative;}#sk-container-id-3 div.sk-text-repr-fallback {display: none;}</style><div id=\"sk-container-id-3\" class=\"sk-top-container\"><div class=\"sk-text-repr-fallback\"><pre>LinearRegression()</pre><b>In a Jupyter environment, please rerun this cell to show the HTML representation or trust the notebook. <br />On GitHub, the HTML representation is unable to render, please try loading this page with nbviewer.org.</b></div><div class=\"sk-container\" hidden><div class=\"sk-item\"><div class=\"sk-estimator sk-toggleable\"><input class=\"sk-toggleable__control sk-hidden--visually\" id=\"sk-estimator-id-3\" type=\"checkbox\" checked><label for=\"sk-estimator-id-3\" class=\"sk-toggleable__label sk-toggleable__label-arrow\">LinearRegression</label><div class=\"sk-toggleable__content\"><pre>LinearRegression()</pre></div></div></div></div></div>"
      ],
      "text/plain": [
       "LinearRegression()"
      ]
     },
     "execution_count": 20,
     "metadata": {},
     "output_type": "execute_result"
    }
   ],
   "source": [
    "from sklearn.linear_model import LinearRegression\n",
    "\n",
    "# Reshape the features to match the expected input shape\n",
    "train_x_reshaped = train_x.values.reshape(-1, 1)\n",
    "\n",
    "# Initialize the linear regression model\n",
    "model = LinearRegression()\n",
    "\n",
    "# Train the model using the training data\n",
    "model.fit(train_x_reshaped, train_y)\n",
    "\n"
   ]
  },
  {
   "cell_type": "markdown",
   "metadata": {},
   "source": [
    "13. What is the hypothesis in this model? (2 Marks)\n",
    "\n",
    "h(x) = θ₀ + θ₁*x + θ₂*(x**2) + θ₃*(x**3) + θ₄*(x**4)"
   ]
  },
  {
   "cell_type": "markdown",
   "metadata": {},
   "source": [
    "14. (Bonus Question) Identify the cost function in your model? (2 Marks)"
   ]
  },
  {
   "cell_type": "code",
   "execution_count": null,
   "metadata": {},
   "outputs": [],
   "source": [
    "mse = np.mean((4*(x**4) + 3*(x**3) + 2*(x**2) + 1*x + 3 + random_noise - model.predict(train_x_reshaped))**2)  "
   ]
  },
  {
   "cell_type": "markdown",
   "metadata": {},
   "source": [
    "15. Print the coefficient and intercept. (2 Marks)"
   ]
  },
  {
   "cell_type": "code",
   "execution_count": 22,
   "metadata": {},
   "outputs": [
    {
     "name": "stdout",
     "output_type": "stream",
     "text": [
      "Coefficient: [-138.38443257]\n",
      "Intercept: 1426.047873693166\n"
     ]
    }
   ],
   "source": [
    "print(\"Coefficient:\", model.coef_)\n",
    "print(\"Intercept:\", model.intercept_)\n"
   ]
  },
  {
   "cell_type": "markdown",
   "metadata": {},
   "source": [
    "16. Test the model by calculating the r2_score (use the test set). (1 Mark)"
   ]
  },
  {
   "cell_type": "code",
   "execution_count": 24,
   "metadata": {},
   "outputs": [
    {
     "name": "stdout",
     "output_type": "stream",
     "text": [
      "R-squared score: -0.7248473817883614\n"
     ]
    }
   ],
   "source": [
    "from sklearn.metrics import r2_score\n",
    "\n",
    "# Reshape the test features to match the expected input shape\n",
    "test_x_reshaped = test_x.values.reshape(-1, 1)\n",
    "\n",
    "# Predict the target values using the trained model\n",
    "test_y_predicted = model.predict(test_x_reshaped)\n",
    "\n",
    "# Calculate the R-squared score\n",
    "r2 = r2_score(test_y, test_y_predicted)\n",
    "\n",
    "print(\"R-squared score:\", r2)\n"
   ]
  },
  {
   "cell_type": "markdown",
   "metadata": {},
   "source": [
    "17. Plot the best-fit line for the entire dataset. (2 Marks)"
   ]
  },
  {
   "cell_type": "code",
   "execution_count": 26,
   "metadata": {},
   "outputs": [
    {
     "data": {
      "image/png": "[encoded data removed]",
      "text/plain": [
       "<Figure size 640x480 with 1 Axes>"
      ]
     },
     "metadata": {},
     "output_type": "display_data"
    }
   ],
   "source": [
    "# Generate predicted y values for the entire dataset\n",
    "x_reshaped = x.reshape(-1, 1)\n",
    "y_predicted_all = model.predict(x_reshaped)\n",
    "\n",
    "# Plot the scatter plot of the data points\n",
    "plt.scatter(x, y, label='Data Points')\n",
    "\n",
    "# Plot the best-fit line\n",
    "plt.plot(x, y_predicted_all, color='red', label='Best-fit Line')\n",
    "\n",
    "plt.xlabel('x')\n",
    "plt.ylabel('y')\n",
    "plt.legend()\n",
    "plt.show()"
   ]
  },
  {
   "cell_type": "markdown",
   "metadata": {},
   "source": [
    "18. Now you should use a polynomial model to train and test the dataset. What are the major differences between simple linear regression and polynomial models? (2 Marks)\n",
    "\n",
    "while simple linear regression is suitable for simple linear relationships, polynomial regression is a more powerful approach for capturing non-linear patterns in the data. \n"
   ]
  },
  {
   "cell_type": "markdown",
   "metadata": {},
   "source": [
    "19. Transform the train_x to fit the polynomial feature. (1 Mark)"
   ]
  },
  {
   "cell_type": "code",
   "execution_count": 29,
   "metadata": {},
   "outputs": [],
   "source": [
    "from sklearn.preprocessing import PolynomialFeatures\n",
    "\n",
    "# Specify the degree of the polynomial features\n",
    "degree = 4  # You can adjust this based on your needs\n",
    "\n",
    "# Create the PolynomialFeatures object\n",
    "poly_features = PolynomialFeatures(degree=degree)\n",
    "\n",
    "# Transform the train_x features to fit the polynomial feature space\n",
    "train_x_poly = poly_features.fit_transform(train_x.values.reshape(-1, 1))\n",
    "\n"
   ]
  },
  {
   "cell_type": "markdown",
   "metadata": {},
   "source": [
    "20. Train a polynomial regression model based on the generated datapoint with the training set. (3 Marks)"
   ]
  },
  {
   "cell_type": "code",
   "execution_count": 30,
   "metadata": {},
   "outputs": [
    {
     "data": {
      "text/html": [
       "<style>#sk-container-id-4 {color: black;}#sk-container-id-4 pre{padding: 0;}#sk-container-id-4 div.sk-toggleable {background-color: white;}#sk-container-id-4 label.sk-toggleable__label {cursor: pointer;display: block;width: 100%;margin-bottom: 0;padding: 0.3em;box-sizing: border-box;text-align: center;}#sk-container-id-4 label.sk-toggleable__label-arrow:before {content: \"▸\";float: left;margin-right: 0.25em;color: #696969;}#sk-container-id-4 label.sk-toggleable__label-arrow:hover:before {color: black;}#sk-container-id-4 div.sk-estimator:hover label.sk-toggleable__label-arrow:before {color: black;}#sk-container-id-4 div.sk-toggleable__content {max-height: 0;max-width: 0;overflow: hidden;text-align: left;background-color: #f0f8ff;}#sk-container-id-4 div.sk-toggleable__content pre {margin: 0.2em;color: black;border-radius: 0.25em;background-color: #f0f8ff;}#sk-container-id-4 input.sk-toggleable__control:checked~div.sk-toggleable__content {max-height: 200px;max-width: 100%;overflow: auto;}#sk-container-id-4 input.sk-toggleable__control:checked~label.sk-toggleable__label-arrow:before {content: \"▾\";}#sk-container-id-4 div.sk-estimator input.sk-toggleable__control:checked~label.sk-toggleable__label {background-color: #d4ebff;}#sk-container-id-4 div.sk-label input.sk-toggleable__control:checked~label.sk-toggleable__label {background-color: #d4ebff;}#sk-container-id-4 input.sk-hidden--visually {border: 0;clip: rect(1px 1px 1px 1px);clip: rect(1px, 1px, 1px, 1px);height: 1px;margin: -1px;overflow: hidden;padding: 0;position: absolute;width: 1px;}#sk-container-id-4 div.sk-estimator {font-family: monospace;background-color: #f0f8ff;border: 1px dotted black;border-radius: 0.25em;box-sizing: border-box;margin-bottom: 0.5em;}#sk-container-id-4 div.sk-estimator:hover {background-color: #d4ebff;}#sk-container-id-4 div.sk-parallel-item::after {content: \"\";width: 100%;border-bottom: 1px solid gray;flex-grow: 1;}#sk-container-id-4 div.sk-label:hover label.sk-toggleable__label {background-color: #d4ebff;}#sk-container-id-4 div.sk-serial::before {content: \"\";position: absolute;border-left: 1px solid gray;box-sizing: border-box;top: 0;bottom: 0;left: 50%;z-index: 0;}#sk-container-id-4 div.sk-serial {display: flex;flex-direction: column;align-items: center;background-color: white;padding-right: 0.2em;padding-left: 0.2em;position: relative;}#sk-container-id-4 div.sk-item {position: relative;z-index: 1;}#sk-container-id-4 div.sk-parallel {display: flex;align-items: stretch;justify-content: center;background-color: white;position: relative;}#sk-container-id-4 div.sk-item::before, #sk-container-id-4 div.sk-parallel-item::before {content: \"\";position: absolute;border-left: 1px solid gray;box-sizing: border-box;top: 0;bottom: 0;left: 50%;z-index: -1;}#sk-container-id-4 div.sk-parallel-item {display: flex;flex-direction: column;z-index: 1;position: relative;background-color: white;}#sk-container-id-4 div.sk-parallel-item:first-child::after {align-self: flex-end;width: 50%;}#sk-container-id-4 div.sk-parallel-item:last-child::after {align-self: flex-start;width: 50%;}#sk-container-id-4 div.sk-parallel-item:only-child::after {width: 0;}#sk-container-id-4 div.sk-dashed-wrapped {border: 1px dashed gray;margin: 0 0.4em 0.5em 0.4em;box-sizing: border-box;padding-bottom: 0.4em;background-color: white;}#sk-container-id-4 div.sk-label label {font-family: monospace;font-weight: bold;display: inline-block;line-height: 1.2em;}#sk-container-id-4 div.sk-label-container {text-align: center;}#sk-container-id-4 div.sk-container {/* jupyter's `normalize.less` sets `[hidden] { display: none; }` but bootstrap.min.css set `[hidden] { display: none !important; }` so we also need the `!important` here to be able to override the default hidden behavior on the sphinx rendered scikit-learn.org. See: https://github.com/scikit-learn/scikit-learn/issues/21755 */display: inline-block !important;position: relative;}#sk-container-id-4 div.sk-text-repr-fallback {display: none;}</style><div id=\"sk-container-id-4\" class=\"sk-top-container\"><div class=\"sk-text-repr-fallback\"><pre>LinearRegression()</pre><b>In a Jupyter environment, please rerun this cell to show the HTML representation or trust the notebook. <br />On GitHub, the HTML representation is unable to render, please try loading this page with nbviewer.org.</b></div><div class=\"sk-container\" hidden><div class=\"sk-item\"><div class=\"sk-estimator sk-toggleable\"><input class=\"sk-toggleable__control sk-hidden--visually\" id=\"sk-estimator-id-4\" type=\"checkbox\" checked><label for=\"sk-estimator-id-4\" class=\"sk-toggleable__label sk-toggleable__label-arrow\">LinearRegression</label><div class=\"sk-toggleable__content\"><pre>LinearRegression()</pre></div></div></div></div></div>"
      ],
      "text/plain": [
       "LinearRegression()"
      ]
     },
     "execution_count": 30,
     "metadata": {},
     "output_type": "execute_result"
    }
   ],
   "source": [
    "# Initialize the polynomial regression model\n",
    "poly_model = LinearRegression()\n",
    "\n",
    "# Train the model using the transformed polynomial features and train_y\n",
    "poly_model.fit(train_x_poly, train_y)"
   ]
  },
  {
   "cell_type": "markdown",
   "metadata": {},
   "source": [
    "21. Specify the degree of the polynomial equation. (1 Mark)\n",
    "\n",
    "4"
   ]
  },
  {
   "cell_type": "markdown",
   "metadata": {},
   "source": [
    "22. Justify the degree that you chose. (Why not higher or lower?) (2 Marks)\n",
    "\n",
    "Choosing a degree lower than 4 might result in underfitting, as the model might struggle to capture the complexities introduced by the x4x4 term. On the other hand, choosing a significantly higher degree could lead to overfitting, where the model captures noise and fluctuations in the data rather than the underlying patterns."
   ]
  },
  {
   "cell_type": "markdown",
   "metadata": {},
   "source": [
    "23. Calculate the RMSE and R2 Score based on the test set. (2 Marks)"
   ]
  },
  {
   "cell_type": "code",
   "execution_count": 34,
   "metadata": {},
   "outputs": [],
   "source": [
    "from sklearn.metrics import mean_squared_error, r2_score\n",
    "\n",
    "# Transform the test_x features to fit the polynomial feature space\n",
    "test_x_poly = poly_features.transform(test_x.values.reshape(-1, 1))\n",
    "\n",
    "# Predict the y values using the trained polynomial regression model\n",
    "test_y_pred = poly_model.predict(test_x_poly)\n",
    "\n",
    "# Calculate RMSE\n",
    "rmse = np.sqrt(mean_squared_error(test_y, test_y_pred))\n",
    "\n",
    "# Calculate R2 Score\n",
    "r2 = r2_score(test_y, test_y_pred)\n"
   ]
  },
  {
   "cell_type": "markdown",
   "metadata": {},
   "source": [
    "24. Print the Mean Square Error of the testing set. (2 Marks)"
   ]
  },
  {
   "cell_type": "code",
   "execution_count": 32,
   "metadata": {},
   "outputs": [
    {
     "name": "stdout",
     "output_type": "stream",
     "text": [
      "RMSE: 2716.6733910210237\n"
     ]
    }
   ],
   "source": [
    "print(\"RMSE:\", rmse)"
   ]
  },
  {
   "cell_type": "markdown",
   "metadata": {},
   "source": [
    "25. Explain why we use the test set (not the train set) for calculating the RMSE, R2 scores and MSE. (2 Marks)\n",
    "\n",
    "using the test set for calculating evaluation metrics ensures that we're assessing the model's ability to generalize and perform on new data, rather than simply evaluating its fit to the data it was trained on."
   ]
  },
  {
   "cell_type": "markdown",
   "metadata": {},
   "source": [
    "26. Plot the best-fit line. (2 Marks)"
   ]
  },
  {
   "cell_type": "code",
   "execution_count": 33,
   "metadata": {},
   "outputs": [
    {
     "data": {
      "image/png": "[encoded data removed]",
      "text/plain": [
       "<Figure size 640x480 with 1 Axes>"
      ]
     },
     "metadata": {},
     "output_type": "display_data"
    }
   ],
   "source": [
    "# Generate x values for plotting the best-fit line\n",
    "x_plot = np.linspace(min(x), max(x), 100)\n",
    "x_plot_poly = poly_features.transform(x_plot.reshape(-1, 1))\n",
    "\n",
    "# Predict y values using the trained polynomial regression model\n",
    "y_plot_pred = poly_model.predict(x_plot_poly)\n",
    "\n",
    "# Plot the original scatter plot\n",
    "plt.scatter(x, y, label='Data points')\n",
    "\n",
    "# Plot the best-fit line\n",
    "plt.plot(x_plot, y_plot_pred, color='red', label='Best-fit Line')\n",
    "\n",
    "# Set labels and title\n",
    "plt.xlabel('x')\n",
    "plt.ylabel('y')\n",
    "plt.title('Polynomial Regression')\n",
    "plt.legend()\n",
    "\n",
    "# Show the plot\n",
    "plt.show()\n"
   ]
  },
  {
   "cell_type": "markdown",
   "metadata": {},
   "source": [
    "27. Compare the two models. Compare their r2-score and rmse. Why do you think the results are like that? Explain which one you think performs better and why. (4 Marks)"
   ]
  },
  {
   "cell_type": "code",
   "execution_count": 35,
   "metadata": {},
   "outputs": [
    {
     "name": "stdout",
     "output_type": "stream",
     "text": [
      "Linear Regression Results:\n",
      "R2-score: -0.7248473817883614\n",
      "RMSE: 3279.0596879011996\n",
      "\n",
      "Polynomial Regression Results:\n",
      "R2-score: -0.18393235034551103\n",
      "RMSE: 2716.6733910210237\n"
     ]
    }
   ],
   "source": [
    "from sklearn.metrics import r2_score, mean_squared_error\n",
    "\n",
    "# Linear Regression\n",
    "linear_y_pred = model.predict(test_x.values.reshape(-1, 1))\n",
    "linear_r2 = r2_score(test_y, linear_y_pred)\n",
    "linear_rmse = np.sqrt(mean_squared_error(test_y, linear_y_pred))\n",
    "\n",
    "print(\"Linear Regression Results:\")\n",
    "print(\"R2-score:\", linear_r2)\n",
    "print(\"RMSE:\", linear_rmse)\n",
    "print()\n",
    "\n",
    "# Polynomial Regression\n",
    "test_x_poly = poly_features.transform(test_x.values.reshape(-1, 1))\n",
    "poly_y_pred = poly_model.predict(test_x_poly)\n",
    "poly_r2 = r2_score(test_y, poly_y_pred)\n",
    "poly_rmse = np.sqrt(mean_squared_error(test_y, poly_y_pred))\n",
    "\n",
    "print(\"Polynomial Regression Results:\")\n",
    "print(\"R2-score:\", poly_r2)\n",
    "print(\"RMSE:\", poly_rmse)\n"
   ]
  },
  {
   "cell_type": "markdown",
   "metadata": {},
   "source": [
    "Both the linear regression and polynomial regression models are performing poorly due to insufficient features.\n",
    "\n",
    "A higher R2-score indicates a better fit. In this case, the polynomial regression model has a higher R2-score (-0.1839 vs. -0.7248), indicating that it captures more variance in the data.\n",
    "\n",
    "A lower RMSE is desirable. The polynomial regression model has a lower RMSE (2716.67 vs. 3279.06), which means its predictions are, on average, closer to the actual values compared to the linear regression model.\n",
    "\n",
    "Thus, the polynomial regression model is performing slightly better in terms of both R2-score and RMSE."
   ]
  },
  {
   "cell_type": "markdown",
   "metadata": {},
   "source": [
    "28. If your model performs great on the training data but generalises poorly to new instances, what is happening? (2 Marks)\n",
    "\n",
    "Overfitting "
   ]
  },
  {
   "cell_type": "markdown",
   "metadata": {},
   "source": [
    "29. Try improving the polynomial model by looking at the RMSE, R2 scores and MSE. Write the code for the most efficient polynomial model. The polynomial degree and othe hyperparameters should be optimised to avoid overfitting and underfitting. Justify your hyperparameters and model (3 Marks)"
   ]
  },
  {
   "cell_type": "code",
   "execution_count": 38,
   "metadata": {},
   "outputs": [
    {
     "name": "stdout",
     "output_type": "stream",
     "text": [
      "Best polynomial degree: 2\n"
     ]
    }
   ],
   "source": [
    "from sklearn.preprocessing import PolynomialFeatures\n",
    "from sklearn.model_selection import train_test_split\n",
    "from sklearn.metrics import mean_squared_error, r2_score\n",
    "\n",
    "# Reshape the features to match the expected input shape\n",
    "train_x_reshaped = train_x.reshape(-1, 1)\n",
    "\n",
    "# Create a range of polynomial degrees to try\n",
    "degrees = [1, 2, 3, 4, 5, 6]\n",
    "\n",
    "# Split data into training and validation sets\n",
    "train_x, val_x, train_y, val_y = train_test_split(train_x_reshaped, train_y, test_size=0.2, random_state=42)\n",
    "\n",
    "best_degree = None\n",
    "best_r2_score = float('-inf')\n",
    "lowest_rmse = float('inf')\n",
    "\n",
    "for degree in degrees:\n",
    "    # Create polynomial features\n",
    "    poly = PolynomialFeatures(degree=degree)\n",
    "    train_x_poly = poly.fit_transform(train_x)\n",
    "    \n",
    "    # Initialize and train the model\n",
    "    model = LinearRegression()\n",
    "    model.fit(train_x_poly, train_y)\n",
    "    \n",
    "    # Transform validation data\n",
    "    val_x_poly = poly.transform(val_x)\n",
    "    \n",
    "    # Predict\n",
    "    val_y_pred = model.predict(val_x_poly)\n",
    "    \n",
    "    # Calculate R2-score\n",
    "    r2 = r2_score(val_y, val_y_pred)\n",
    "    \n",
    "    # Calculate RMSE\n",
    "    rmse = mean_squared_error(val_y, val_y_pred, squared=False)\n",
    "    \n",
    "    if r2 > best_r2_score and rmse < lowest_rmse:\n",
    "        best_r2_score = r2\n",
    "        lowest_rmse = rmse\n",
    "        best_degree = degree\n",
    "\n",
    "print(\"Best polynomial degree:\", best_degree)\n"
   ]
  }
 ],
 "metadata": {
  "kernelspec": {
   "display_name": "Python 3",
   "language": "python",
   "name": "python3"
  },
  "language_info": {
   "codemirror_mode": {
    "name": "ipython",
    "version": 3
   },
   "file_extension": ".py",
   "mimetype": "text/x-python",
   "name": "python",
   "nbconvert_exporter": "python",
   "pygments_lexer": "ipython3",
   "version": "3.11.4"
  },
  "orig_nbformat": 4
 },
 "nbformat": 4,
 "nbformat_minor": 2
}
